{
  "cells": [
    {
      "cell_type": "code",
      "metadata": {
        "source_hash": "ea22c22c",
        "execution_start": 1743505419636,
        "execution_millis": 3245,
        "execution_context_id": "298f0d3c-086d-414d-acea-34d98d3fbd8d",
        "cell_id": "226cad125618485b8524f53c9f5ecda3",
        "deepnote_cell_type": "code"
      },
      "source": "!pip install openpyxl\n#menginstal library openpyxl untuk membaca file excel",
      "block_group": "3c0c965549e34d73874549e98b8c3c53",
      "execution_count": 1,
      "outputs": [
        {
          "name": "stdout",
          "text": "Collecting openpyxl\n  Downloading openpyxl-3.1.5-py2.py3-none-any.whl (250 kB)\n\u001b[2K     \u001b[90m━━━━━━━━━━━━━━━━━━━━━━━━━━━━━━━━━━━━━━\u001b[0m \u001b[32m250.9/250.9 kB\u001b[0m \u001b[31m20.1 MB/s\u001b[0m eta \u001b[36m0:00:00\u001b[0m\n\u001b[?25hCollecting et-xmlfile\n  Downloading et_xmlfile-2.0.0-py3-none-any.whl (18 kB)\nInstalling collected packages: et-xmlfile, openpyxl\nSuccessfully installed et-xmlfile-2.0.0 openpyxl-3.1.5\n\n\u001b[1m[\u001b[0m\u001b[34;49mnotice\u001b[0m\u001b[1;39;49m]\u001b[0m\u001b[39;49m A new release of pip is available: \u001b[0m\u001b[31;49m23.0.1\u001b[0m\u001b[39;49m -> \u001b[0m\u001b[32;49m25.0.1\u001b[0m\n\u001b[1m[\u001b[0m\u001b[34;49mnotice\u001b[0m\u001b[1;39;49m]\u001b[0m\u001b[39;49m To update, run: \u001b[0m\u001b[32;49mpip install --upgrade pip\u001b[0m\n",
          "output_type": "stream"
        }
      ],
      "outputs_reference": null,
      "content_dependencies": null
    },
    {
      "cell_type": "code",
      "metadata": {
        "source_hash": "a53e546e",
        "execution_start": 1743505836125,
        "execution_millis": 130,
        "execution_context_id": "298f0d3c-086d-414d-acea-34d98d3fbd8d",
        "cell_id": "02f9624c08dc491c81f3ff5e7e3f6f12",
        "deepnote_cell_type": "code"
      },
      "source": "import pandas as pd\nimport numpy as np\nfrom matplotlib import pyplot as plt\nimport seaborn as sns\nfrom sklearn.preprocessing import MinMaxScaler\nfrom sklearn.decomposition import PCA\nfrom sklearn.cluster import KMeans\n#menginstal library pandas, numpy, matplotlib, seaborn, sklearn untuk proses preprocessing",
      "block_group": "02f9624c08dc491c81f3ff5e7e3f6f12",
      "execution_count": 54,
      "outputs": [],
      "outputs_reference": null,
      "content_dependencies": null
    },
    {
      "cell_type": "code",
      "metadata": {
        "source_hash": "751f3dcd",
        "execution_start": 1743505424276,
        "execution_millis": 5238,
        "execution_context_id": "298f0d3c-086d-414d-acea-34d98d3fbd8d",
        "cell_id": "1824402c1f7e41f5841727be9b73ed04",
        "deepnote_cell_type": "code"
      },
      "source": "df = pd.read_excel('/work/Fraud Detection Dataset.xlsx')\ndf\n#membaca dataset dari file excel ke dalam dataframe dan selanjutnya ditampilkan",
      "block_group": "4e59e37cc157457684ea3602df031091",
      "execution_count": 3,
      "outputs": [
        {
          "output_type": "execute_result",
          "execution_count": 3,
          "data": {
            "application/vnd.deepnote.dataframe.v3+json": {
              "column_count": 11,
              "row_count": 51000,
              "columns": [
                {
                  "name": "Transaction_ID",
                  "dtype": "object",
                  "stats": {
                    "unique_count": 50000,
                    "nan_count": 0,
                    "categories": [
                      {
                        "name": "T5",
                        "count": 2
                      },
                      {
                        "name": "T148",
                        "count": 2
                      },
                      {
                        "name": "49998 others",
                        "count": 50996
                      }
                    ]
                  }
                },
                {
                  "name": "User_ID",
                  "dtype": "int64"
                },
                {
                  "name": "Transaction_Amount",
                  "dtype": "float64"
                },
                {
                  "name": "Transaction_Type",
                  "dtype": "object"
                },
                {
                  "name": "Time_of_Transaction",
                  "dtype": "float64"
                },
                {
                  "name": "Device_Used",
                  "dtype": "object"
                },
                {
                  "name": "Location",
                  "dtype": "object"
                },
                {
                  "name": "Previous_Fraudulent_Transactions",
                  "dtype": "int64"
                },
                {
                  "name": "Account_Age",
                  "dtype": "int64"
                },
                {
                  "name": "Number_of_Transactions_Last_24H",
                  "dtype": "int64"
                },
                {
                  "name": "Payment_Method",
                  "dtype": "object"
                },
                {
                  "name": "_deepnote_index_column",
                  "dtype": "int64"
                }
              ],
              "rows": [
                {
                  "Transaction_ID": "T1",
                  "User_ID": 4174,
                  "Transaction_Amount": 1292.76,
                  "Transaction_Type": "ATM Withdrawal",
                  "Time_of_Transaction": 16,
                  "Device_Used": "Tablet",
                  "Location": "San Francisco",
                  "Previous_Fraudulent_Transactions": 0,
                  "Account_Age": 119,
                  "Number_of_Transactions_Last_24H": 13,
                  "Payment_Method": "Debit Card",
                  "_deepnote_index_column": 0
                },
                {
                  "Transaction_ID": "T2",
                  "User_ID": 4507,
                  "Transaction_Amount": 1554.58,
                  "Transaction_Type": "ATM Withdrawal",
                  "Time_of_Transaction": 13,
                  "Device_Used": "Mobile",
                  "Location": "New York",
                  "Previous_Fraudulent_Transactions": 4,
                  "Account_Age": 79,
                  "Number_of_Transactions_Last_24H": 3,
                  "Payment_Method": "Credit Card",
                  "_deepnote_index_column": 1
                },
                {
                  "Transaction_ID": "T3",
                  "User_ID": 1860,
                  "Transaction_Amount": 2395.02,
                  "Transaction_Type": "ATM Withdrawal",
                  "Time_of_Transaction": "nan",
                  "Device_Used": "Mobile",
                  "Location": "nan",
                  "Previous_Fraudulent_Transactions": 3,
                  "Account_Age": 115,
                  "Number_of_Transactions_Last_24H": 9,
                  "Payment_Method": "nan",
                  "_deepnote_index_column": 2
                },
                {
                  "Transaction_ID": "T4",
                  "User_ID": 2294,
                  "Transaction_Amount": 100.1,
                  "Transaction_Type": "Bill Payment",
                  "Time_of_Transaction": 15,
                  "Device_Used": "Desktop",
                  "Location": "Chicago",
                  "Previous_Fraudulent_Transactions": 4,
                  "Account_Age": 3,
                  "Number_of_Transactions_Last_24H": 4,
                  "Payment_Method": "UPI",
                  "_deepnote_index_column": 3
                },
                {
                  "Transaction_ID": "T5",
                  "User_ID": 2130,
                  "Transaction_Amount": 1490.5,
                  "Transaction_Type": "POS Payment",
                  "Time_of_Transaction": 19,
                  "Device_Used": "Mobile",
                  "Location": "San Francisco",
                  "Previous_Fraudulent_Transactions": 2,
                  "Account_Age": 57,
                  "Number_of_Transactions_Last_24H": 7,
                  "Payment_Method": "Credit Card",
                  "_deepnote_index_column": 4
                },
                {
                  "Transaction_ID": "T6",
                  "User_ID": 2095,
                  "Transaction_Amount": 2372.04,
                  "Transaction_Type": "ATM Withdrawal",
                  "Time_of_Transaction": 15,
                  "Device_Used": "Desktop",
                  "Location": "Boston",
                  "Previous_Fraudulent_Transactions": 3,
                  "Account_Age": 96,
                  "Number_of_Transactions_Last_24H": 14,
                  "Payment_Method": "Credit Card",
                  "_deepnote_index_column": 5
                },
                {
                  "Transaction_ID": "T7",
                  "User_ID": 4772,
                  "Transaction_Amount": 544.81,
                  "Transaction_Type": "Bill Payment",
                  "Time_of_Transaction": 2,
                  "Device_Used": "Tablet",
                  "Location": "Boston",
                  "Previous_Fraudulent_Transactions": 3,
                  "Account_Age": 6,
                  "Number_of_Transactions_Last_24H": 9,
                  "Payment_Method": "UPI",
                  "_deepnote_index_column": 6
                },
                {
                  "Transaction_ID": "T8",
                  "User_ID": 4092,
                  "Transaction_Amount": 635.75,
                  "Transaction_Type": "ATM Withdrawal",
                  "Time_of_Transaction": 13,
                  "Device_Used": "Tablet",
                  "Location": "Boston",
                  "Previous_Fraudulent_Transactions": 2,
                  "Account_Age": 13,
                  "Number_of_Transactions_Last_24H": 10,
                  "Payment_Method": "Debit Card",
                  "_deepnote_index_column": 7
                },
                {
                  "Transaction_ID": "T9",
                  "User_ID": 2638,
                  "Transaction_Amount": 2318.87,
                  "Transaction_Type": "Bank Transfer",
                  "Time_of_Transaction": "nan",
                  "Device_Used": "Mobile",
                  "Location": "San Francisco",
                  "Previous_Fraudulent_Transactions": 4,
                  "Account_Age": 110,
                  "Number_of_Transactions_Last_24H": 12,
                  "Payment_Method": "Debit Card",
                  "_deepnote_index_column": 8
                },
                {
                  "Transaction_ID": "T10",
                  "User_ID": 3169,
                  "Transaction_Amount": 3656.17,
                  "Transaction_Type": "Bill Payment",
                  "Time_of_Transaction": 3,
                  "Device_Used": "Mobile",
                  "Location": "Chicago",
                  "Previous_Fraudulent_Transactions": 4,
                  "Account_Age": 66,
                  "Number_of_Transactions_Last_24H": 3,
                  "Payment_Method": "Net Banking",
                  "_deepnote_index_column": 9
                }
              ],
              "type": "dataframe"
            },
            "text/plain": "      Transaction_ID  User_ID  Transaction_Amount Transaction_Type  \\\n0                 T1     4174             1292.76   ATM Withdrawal   \n1                 T2     4507             1554.58   ATM Withdrawal   \n2                 T3     1860             2395.02   ATM Withdrawal   \n3                 T4     2294              100.10     Bill Payment   \n4                 T5     2130             1490.50      POS Payment   \n...              ...      ...                 ...              ...   \n50995         T33982     2339             3112.51     Bill Payment   \n50996         T31261     2152             2897.15  Online Purchase   \n50997         T12293     3345             2204.43      POS Payment   \n50998         T42287     1518             4787.17      POS Payment   \n50999         T13665     2315              814.72      POS Payment   \n\n       Time_of_Transaction Device_Used       Location  \\\n0                     16.0      Tablet  San Francisco   \n1                     13.0      Mobile       New York   \n2                      NaN      Mobile            NaN   \n3                     15.0     Desktop        Chicago   \n4                     19.0      Mobile  San Francisco   \n...                    ...         ...            ...   \n50995                 15.0      Mobile       New York   \n50996                  3.0      Mobile          Miami   \n50997                 18.0      Mobile  San Francisco   \n50998                 19.0      Tablet       New York   \n50999                  3.0      Tablet    Los Angeles   \n\n       Previous_Fraudulent_Transactions  Account_Age  \\\n0                                     0          119   \n1                                     4           79   \n2                                     3          115   \n3                                     4            3   \n4                                     2           57   \n...                                 ...          ...   \n50995                                 0            7   \n50996                                 1           75   \n50997                                 3           73   \n50998                                 2          108   \n50999                                 0           50   \n\n       Number_of_Transactions_Last_24H  Payment_Method  \n0                                   13      Debit Card  \n1                                    3     Credit Card  \n2                                    9             NaN  \n3                                    4             UPI  \n4                                    7     Credit Card  \n...                                ...             ...  \n50995                                8      Debit Card  \n50996                               11     Net Banking  \n50997                                5     Credit Card  \n50998                               14     Net Banking  \n50999                               10  Invalid Method  \n\n[51000 rows x 11 columns]",
            "text/html": "<div>\n<style scoped>\n    .dataframe tbody tr th:only-of-type {\n        vertical-align: middle;\n    }\n\n    .dataframe tbody tr th {\n        vertical-align: top;\n    }\n\n    .dataframe thead th {\n        text-align: right;\n    }\n</style>\n<table border=\"1\" class=\"dataframe\">\n  <thead>\n    <tr style=\"text-align: right;\">\n      <th></th>\n      <th>Transaction_ID</th>\n      <th>User_ID</th>\n      <th>Transaction_Amount</th>\n      <th>Transaction_Type</th>\n      <th>Time_of_Transaction</th>\n      <th>Device_Used</th>\n      <th>Location</th>\n      <th>Previous_Fraudulent_Transactions</th>\n      <th>Account_Age</th>\n      <th>Number_of_Transactions_Last_24H</th>\n      <th>Payment_Method</th>\n    </tr>\n  </thead>\n  <tbody>\n    <tr>\n      <th>0</th>\n      <td>T1</td>\n      <td>4174</td>\n      <td>1292.76</td>\n      <td>ATM Withdrawal</td>\n      <td>16.0</td>\n      <td>Tablet</td>\n      <td>San Francisco</td>\n      <td>0</td>\n      <td>119</td>\n      <td>13</td>\n      <td>Debit Card</td>\n    </tr>\n    <tr>\n      <th>1</th>\n      <td>T2</td>\n      <td>4507</td>\n      <td>1554.58</td>\n      <td>ATM Withdrawal</td>\n      <td>13.0</td>\n      <td>Mobile</td>\n      <td>New York</td>\n      <td>4</td>\n      <td>79</td>\n      <td>3</td>\n      <td>Credit Card</td>\n    </tr>\n    <tr>\n      <th>2</th>\n      <td>T3</td>\n      <td>1860</td>\n      <td>2395.02</td>\n      <td>ATM Withdrawal</td>\n      <td>NaN</td>\n      <td>Mobile</td>\n      <td>NaN</td>\n      <td>3</td>\n      <td>115</td>\n      <td>9</td>\n      <td>NaN</td>\n    </tr>\n    <tr>\n      <th>3</th>\n      <td>T4</td>\n      <td>2294</td>\n      <td>100.10</td>\n      <td>Bill Payment</td>\n      <td>15.0</td>\n      <td>Desktop</td>\n      <td>Chicago</td>\n      <td>4</td>\n      <td>3</td>\n      <td>4</td>\n      <td>UPI</td>\n    </tr>\n    <tr>\n      <th>4</th>\n      <td>T5</td>\n      <td>2130</td>\n      <td>1490.50</td>\n      <td>POS Payment</td>\n      <td>19.0</td>\n      <td>Mobile</td>\n      <td>San Francisco</td>\n      <td>2</td>\n      <td>57</td>\n      <td>7</td>\n      <td>Credit Card</td>\n    </tr>\n    <tr>\n      <th>...</th>\n      <td>...</td>\n      <td>...</td>\n      <td>...</td>\n      <td>...</td>\n      <td>...</td>\n      <td>...</td>\n      <td>...</td>\n      <td>...</td>\n      <td>...</td>\n      <td>...</td>\n      <td>...</td>\n    </tr>\n    <tr>\n      <th>50995</th>\n      <td>T33982</td>\n      <td>2339</td>\n      <td>3112.51</td>\n      <td>Bill Payment</td>\n      <td>15.0</td>\n      <td>Mobile</td>\n      <td>New York</td>\n      <td>0</td>\n      <td>7</td>\n      <td>8</td>\n      <td>Debit Card</td>\n    </tr>\n    <tr>\n      <th>50996</th>\n      <td>T31261</td>\n      <td>2152</td>\n      <td>2897.15</td>\n      <td>Online Purchase</td>\n      <td>3.0</td>\n      <td>Mobile</td>\n      <td>Miami</td>\n      <td>1</td>\n      <td>75</td>\n      <td>11</td>\n      <td>Net Banking</td>\n    </tr>\n    <tr>\n      <th>50997</th>\n      <td>T12293</td>\n      <td>3345</td>\n      <td>2204.43</td>\n      <td>POS Payment</td>\n      <td>18.0</td>\n      <td>Mobile</td>\n      <td>San Francisco</td>\n      <td>3</td>\n      <td>73</td>\n      <td>5</td>\n      <td>Credit Card</td>\n    </tr>\n    <tr>\n      <th>50998</th>\n      <td>T42287</td>\n      <td>1518</td>\n      <td>4787.17</td>\n      <td>POS Payment</td>\n      <td>19.0</td>\n      <td>Tablet</td>\n      <td>New York</td>\n      <td>2</td>\n      <td>108</td>\n      <td>14</td>\n      <td>Net Banking</td>\n    </tr>\n    <tr>\n      <th>50999</th>\n      <td>T13665</td>\n      <td>2315</td>\n      <td>814.72</td>\n      <td>POS Payment</td>\n      <td>3.0</td>\n      <td>Tablet</td>\n      <td>Los Angeles</td>\n      <td>0</td>\n      <td>50</td>\n      <td>10</td>\n      <td>Invalid Method</td>\n    </tr>\n  </tbody>\n</table>\n<p>51000 rows × 11 columns</p>\n</div>"
          },
          "metadata": {}
        }
      ],
      "outputs_reference": null,
      "content_dependencies": null
    },
    {
      "cell_type": "code",
      "metadata": {
        "source_hash": "4a3f5a1e",
        "execution_start": 1743505429566,
        "execution_millis": 0,
        "execution_context_id": "298f0d3c-086d-414d-acea-34d98d3fbd8d",
        "cell_id": "bba95676b05749b595add65d9ca75276",
        "deepnote_cell_type": "code"
      },
      "source": "df.drop(['User_ID', 'Transaction_ID'], axis=1, inplace=True)\n#menghapus kolom 'User_ID' dan 'Transaction_ID' dari dataframe",
      "block_group": "f178db2c695d46baa6d85226e6f05daa",
      "execution_count": 4,
      "outputs": [],
      "outputs_reference": null,
      "content_dependencies": null
    },
    {
      "cell_type": "code",
      "metadata": {
        "source_hash": "de1e323c",
        "execution_start": 1743505429626,
        "execution_millis": 1,
        "execution_context_id": "298f0d3c-086d-414d-acea-34d98d3fbd8d",
        "cell_id": "f8257da97698414a90e6d046274e7e59",
        "deepnote_cell_type": "code"
      },
      "source": "df.info()\n#melihat informasi dari dataframe setelah dilakukan penghapusan pada kolom 'User_ID' dan 'Transaction_ID'",
      "block_group": "2fb19cf1c55045b397be8b491dd4b32d",
      "execution_count": 5,
      "outputs": [
        {
          "name": "stdout",
          "text": "<class 'pandas.core.frame.DataFrame'>\nRangeIndex: 51000 entries, 0 to 50999\nData columns (total 9 columns):\n #   Column                            Non-Null Count  Dtype  \n---  ------                            --------------  -----  \n 0   Transaction_Amount                48480 non-null  float64\n 1   Transaction_Type                  51000 non-null  object \n 2   Time_of_Transaction               48448 non-null  float64\n 3   Device_Used                       48527 non-null  object \n 4   Location                          48453 non-null  object \n 5   Previous_Fraudulent_Transactions  51000 non-null  int64  \n 6   Account_Age                       51000 non-null  int64  \n 7   Number_of_Transactions_Last_24H   51000 non-null  int64  \n 8   Payment_Method                    48531 non-null  object \ndtypes: float64(2), int64(3), object(4)\nmemory usage: 3.5+ MB\n",
          "output_type": "stream"
        }
      ],
      "outputs_reference": null,
      "content_dependencies": null
    },
    {
      "cell_type": "markdown",
      "metadata": {
        "formattedRanges": [],
        "cell_id": "8c728cc31be94d4b8fb699f15062de32",
        "deepnote_cell_type": "text-cell-h1"
      },
      "source": "# 1. Preprocessing",
      "block_group": "a0dde86f70bb4ad9bf585250f47363b6"
    },
    {
      "cell_type": "markdown",
      "metadata": {
        "formattedRanges": [],
        "cell_id": "6c67ba2d4c7444e4a340ab8b0be0dced",
        "deepnote_cell_type": "text-cell-h2"
      },
      "source": "## 1.1 Drop Missing Values",
      "block_group": "cfcebdd9b9524c1b8a760d7db4a0bc62"
    },
    {
      "cell_type": "markdown",
      "metadata": {
        "formattedRanges": [],
        "cell_id": "1bf2e6ba155e40dab938aa6e4b4c6f9c",
        "deepnote_cell_type": "text-cell-h3"
      },
      "source": "### 1.1.1 Check the Columns with Nan Values ",
      "block_group": "db75b6a507464b0b958e66e32b17ab62"
    },
    {
      "cell_type": "code",
      "metadata": {
        "source_hash": "d794f466",
        "execution_start": 1743505429686,
        "execution_millis": 0,
        "execution_context_id": "298f0d3c-086d-414d-acea-34d98d3fbd8d",
        "cell_id": "980aefb004004587b7a199abea0df9ce",
        "deepnote_cell_type": "code"
      },
      "source": "df.isna().sum()\n#melakukan pengecekan missing value dengan menghitung total missing value pada setiap kolom",
      "block_group": "0548acc6429d47c98f0939d013274a86",
      "execution_count": 6,
      "outputs": [
        {
          "output_type": "execute_result",
          "execution_count": 6,
          "data": {
            "text/plain": "Transaction_Amount                  2520\nTransaction_Type                       0\nTime_of_Transaction                 2552\nDevice_Used                         2473\nLocation                            2547\nPrevious_Fraudulent_Transactions       0\nAccount_Age                            0\nNumber_of_Transactions_Last_24H        0\nPayment_Method                      2469\ndtype: int64"
          },
          "metadata": {}
        }
      ],
      "outputs_reference": null,
      "content_dependencies": null
    },
    {
      "cell_type": "markdown",
      "metadata": {
        "formattedRanges": [],
        "cell_id": "e8afbf8eb4034342bf315112cacfdaa1",
        "deepnote_cell_type": "text-cell-p"
      },
      "source": "count the percentage of missing values",
      "block_group": "b90f3b2e36a64e8c88f3d534fc94a846"
    },
    {
      "cell_type": "code",
      "metadata": {
        "source_hash": "c0631f94",
        "execution_start": 1743505429735,
        "execution_millis": 1,
        "execution_context_id": "298f0d3c-086d-414d-acea-34d98d3fbd8d",
        "cell_id": "b6c9eee79bba45709cb367c0fb564ce2",
        "deepnote_cell_type": "code"
      },
      "source": "for col in df.columns:\n    pct_missing = np.mean(df[col].isnull())\n    print('{} - {}%'.format(col, round(pct_missing*100)))\n#setelah mengetahui jumlah missing value, kita menghitung persentase missing value pada setiap kolom ",
      "block_group": "741835bf81244362bd805657860a2fbc",
      "execution_count": 7,
      "outputs": [
        {
          "name": "stdout",
          "text": "Transaction_Amount - 5%\nTransaction_Type - 0%\nTime_of_Transaction - 5%\nDevice_Used - 5%\nLocation - 5%\nPrevious_Fraudulent_Transactions - 0%\nAccount_Age - 0%\nNumber_of_Transactions_Last_24H - 0%\nPayment_Method - 5%\n",
          "output_type": "stream"
        }
      ],
      "outputs_reference": null,
      "content_dependencies": null
    },
    {
      "cell_type": "markdown",
      "metadata": {
        "formattedRanges": [],
        "cell_id": "125112165ffd4e1f9e0de0ea4b28c1ed",
        "deepnote_cell_type": "text-cell-p"
      },
      "source": "Missing values from each column only 5% of all data. so we can drop a row that contain missing value",
      "block_group": "771a819a28b243feb14b77d12a08468c"
    },
    {
      "cell_type": "markdown",
      "metadata": {
        "formattedRanges": [],
        "cell_id": "0cefbd632ca14ac3847bd6aa3828d3e7",
        "deepnote_cell_type": "text-cell-h3"
      },
      "source": "### 1.1.2 Drop Missing Values",
      "block_group": "4168901d4c9b4faebbe9c76a7be8536a"
    },
    {
      "cell_type": "code",
      "metadata": {
        "source_hash": "f27707e6",
        "execution_start": 1743505429805,
        "execution_millis": 1,
        "execution_context_id": "298f0d3c-086d-414d-acea-34d98d3fbd8d",
        "cell_id": "86c86068054c47029cd30c25ba0bbf09",
        "deepnote_cell_type": "code"
      },
      "source": "df_no_nan = df.dropna()\ndf_no_nan.isna().sum()\n#membuat dataframe baru yang tidak mengandung missing value selanjutnya melakukan pengecekan jumlah missing value dan hasilnya tidak ada lagi kolom yang mengandung missing value",
      "block_group": "5611f3b2cf3d485da65c06c0317d2152",
      "execution_count": 8,
      "outputs": [
        {
          "output_type": "execute_result",
          "execution_count": 8,
          "data": {
            "text/plain": "Transaction_Amount                  0\nTransaction_Type                    0\nTime_of_Transaction                 0\nDevice_Used                         0\nLocation                            0\nPrevious_Fraudulent_Transactions    0\nAccount_Age                         0\nNumber_of_Transactions_Last_24H     0\nPayment_Method                      0\ndtype: int64"
          },
          "metadata": {}
        }
      ],
      "outputs_reference": null,
      "content_dependencies": null
    },
    {
      "cell_type": "markdown",
      "metadata": {
        "formattedRanges": [],
        "cell_id": "f0b38bb0226f47f0b75ec87778b93151",
        "deepnote_cell_type": "text-cell-p"
      },
      "source": "now our data have no missing value for each features",
      "block_group": "010835b94c5743b5b0e77aa82f665f61"
    },
    {
      "cell_type": "markdown",
      "metadata": {
        "formattedRanges": [],
        "cell_id": "409e45fa024f42ae9a0cafabc2b71baa",
        "deepnote_cell_type": "text-cell-h2"
      },
      "source": "## 1.2 Drop Duplicate Values",
      "block_group": "720b3a6777cf4e81b4a1c913202c74a1"
    },
    {
      "cell_type": "markdown",
      "metadata": {
        "formattedRanges": [],
        "cell_id": "c4bfeae405a04027aa02fd01313ad3bf",
        "deepnote_cell_type": "text-cell-h3"
      },
      "source": "### 1.2.1 Check the duplicate value in dataset",
      "block_group": "edb0ed4022a648148691a717ccb5bee1"
    },
    {
      "cell_type": "code",
      "metadata": {
        "source_hash": "eea71c72",
        "execution_start": 1743505429865,
        "execution_millis": 1,
        "execution_context_id": "298f0d3c-086d-414d-acea-34d98d3fbd8d",
        "cell_id": "bf6153d83e5a44059443810dff5dcadc",
        "deepnote_cell_type": "code"
      },
      "source": "df_no_nan.duplicated().sum()\n#melakukan pengecekan duplicate value pada dataframe 'df_no_nan' dengan menghitung total duplicate value",
      "block_group": "68c883960f994bab8dcd30f4054eb49b",
      "execution_count": 9,
      "outputs": [
        {
          "output_type": "execute_result",
          "execution_count": 9,
          "data": {
            "text/plain": "688"
          },
          "metadata": {}
        }
      ],
      "outputs_reference": null,
      "content_dependencies": null
    },
    {
      "cell_type": "markdown",
      "metadata": {
        "formattedRanges": [],
        "cell_id": "bb10859e247b4fb9bbebd48391a1eb67",
        "deepnote_cell_type": "text-cell-p"
      },
      "source": "Total duplicate values in df_no_nan is 688 data",
      "block_group": "5a1cde5e37ff483c8f096d16b800a709"
    },
    {
      "cell_type": "markdown",
      "metadata": {
        "formattedRanges": [],
        "cell_id": "38e10f9d73854dfaa48d2c3b8d835aaf",
        "deepnote_cell_type": "text-cell-h3"
      },
      "source": "### 1.2.2 Drop Duplicate Values",
      "block_group": "9cbafbef25e04c6a8d76bd2a21153552"
    },
    {
      "cell_type": "code",
      "metadata": {
        "source_hash": "7b60c033",
        "execution_start": 1743505429925,
        "execution_millis": 1,
        "execution_context_id": "298f0d3c-086d-414d-acea-34d98d3fbd8d",
        "cell_id": "df4bb421117d4a82baa22d533e3ebfef",
        "deepnote_cell_type": "code"
      },
      "source": "df_cleaned = df_no_nan.drop_duplicates()\ndf_cleaned.duplicated().sum()\n#membuat dataframe baru yang tidak mengandung duplicate value selanjutnya melakukan pengecekan duplicate value dan melihat total duplicate value",
      "block_group": "e619c3ed2d2841dcadb46789074e042c",
      "execution_count": 10,
      "outputs": [
        {
          "output_type": "execute_result",
          "execution_count": 10,
          "data": {
            "text/plain": "0"
          },
          "metadata": {}
        }
      ],
      "outputs_reference": null,
      "content_dependencies": null
    },
    {
      "cell_type": "markdown",
      "metadata": {
        "formattedRanges": [],
        "cell_id": "7e71fd95fc224165895d16d97c7f9376",
        "deepnote_cell_type": "text-cell-p"
      },
      "source": "now our data has 0 duplicate value",
      "block_group": "a86b6b7e7d5b41b98f19ad71d7c752f8"
    },
    {
      "cell_type": "markdown",
      "metadata": {
        "formattedRanges": [],
        "cell_id": "92174f6c3278421ea51618c2ccbed27d",
        "deepnote_cell_type": "text-cell-h2"
      },
      "source": "## 1.3 Encoding Categorical Features",
      "block_group": "597d450b8c2940f3848b4e4022ad154b"
    },
    {
      "cell_type": "markdown",
      "metadata": {
        "formattedRanges": [],
        "cell_id": "341b58f00d374d6196fe2d938e81aec0",
        "deepnote_cell_type": "text-cell-h3"
      },
      "source": "### 1.3.1 Check Categorical Features from dataset",
      "block_group": "a3991fa35b894fcab298ee1db32640b7"
    },
    {
      "cell_type": "code",
      "metadata": {
        "source_hash": "432311a6",
        "execution_start": 1743505429976,
        "execution_millis": 1,
        "execution_context_id": "298f0d3c-086d-414d-acea-34d98d3fbd8d",
        "cell_id": "e1862d0ea7bf40fb9105eae98eb146d0",
        "deepnote_cell_type": "code"
      },
      "source": "categorical = [var for var in df_cleaned.columns if df_cleaned[var].dtype=='O']\nfor col in categorical:\n    print(col, 'unique values:',df_cleaned[col].unique())\n#membuat list 'categorical' yang berisi kolom-kolom categorical pada dataframe 'df_cleaned' dan melihat unique value dari masing-masing kolom",
      "block_group": "60d41d1110a84e61bf472cae4eac2245",
      "execution_count": 11,
      "outputs": [
        {
          "name": "stdout",
          "text": "Transaction_Type unique values: ['ATM Withdrawal' 'Bill Payment' 'POS Payment' 'Bank Transfer'\n 'Online Purchase']\nDevice_Used unique values: ['Tablet' 'Mobile' 'Desktop' 'Unknown Device']\nLocation unique values: ['San Francisco' 'New York' 'Chicago' 'Boston' 'Houston' 'Miami'\n 'Los Angeles' 'Seattle']\nPayment_Method unique values: ['Debit Card' 'Credit Card' 'UPI' 'Net Banking' 'Invalid Method']\n",
          "output_type": "stream"
        }
      ],
      "outputs_reference": null,
      "content_dependencies": null
    },
    {
      "cell_type": "code",
      "metadata": {
        "source_hash": "c22014bd",
        "execution_start": 1743505430036,
        "execution_millis": 0,
        "execution_context_id": "298f0d3c-086d-414d-acea-34d98d3fbd8d",
        "cell_id": "5f6c48c0790a4530b4d6ece55eea8995",
        "deepnote_cell_type": "code"
      },
      "source": "df_cleaned\n#menampilkan dataframe yang telah dibersihkan, yang berarti tidak ada missing value dan tidak ada duplicate value",
      "block_group": "cfaccecdfeec4f179197ef426b240a31",
      "execution_count": 12,
      "outputs": [
        {
          "output_type": "execute_result",
          "execution_count": 12,
          "data": {
            "application/vnd.deepnote.dataframe.v3+json": {
              "column_count": 9,
              "row_count": 38895,
              "columns": [
                {
                  "name": "Transaction_Amount",
                  "dtype": "float64",
                  "stats": {
                    "unique_count": 36916,
                    "nan_count": 0,
                    "min": "5.03",
                    "max": "49997.7999999999",
                    "histogram": [
                      {
                        "bin_start": 5.03,
                        "bin_end": 5004.30699999999,
                        "count": 38484
                      },
                      {
                        "bin_start": 5004.30699999999,
                        "bin_end": 10003.58399999998,
                        "count": 0
                      },
                      {
                        "bin_start": 10003.58399999998,
                        "bin_end": 15002.86099999997,
                        "count": 0
                      },
                      {
                        "bin_start": 15002.86099999997,
                        "bin_end": 20002.13799999996,
                        "count": 0
                      },
                      {
                        "bin_start": 20002.13799999996,
                        "bin_end": 25001.41499999995,
                        "count": 0
                      },
                      {
                        "bin_start": 25001.41499999995,
                        "bin_end": 30000.691999999937,
                        "count": 0
                      },
                      {
                        "bin_start": 30000.691999999937,
                        "bin_end": 34999.96899999993,
                        "count": 0
                      },
                      {
                        "bin_start": 34999.96899999993,
                        "bin_end": 39999.24599999992,
                        "count": 0
                      },
                      {
                        "bin_start": 39999.24599999992,
                        "bin_end": 44998.52299999991,
                        "count": 0
                      },
                      {
                        "bin_start": 44998.52299999991,
                        "bin_end": 49997.7999999999,
                        "count": 411
                      }
                    ]
                  }
                },
                {
                  "name": "Transaction_Type",
                  "dtype": "object",
                  "stats": {
                    "unique_count": 5,
                    "nan_count": 0,
                    "categories": [
                      {
                        "name": "Bank Transfer",
                        "count": 7879
                      },
                      {
                        "name": "Bill Payment",
                        "count": 7829
                      },
                      {
                        "name": "3 others",
                        "count": 23187
                      }
                    ]
                  }
                },
                {
                  "name": "Time_of_Transaction",
                  "dtype": "float64"
                },
                {
                  "name": "Device_Used",
                  "dtype": "object"
                },
                {
                  "name": "Location",
                  "dtype": "object"
                },
                {
                  "name": "Previous_Fraudulent_Transactions",
                  "dtype": "int64"
                },
                {
                  "name": "Account_Age",
                  "dtype": "int64"
                },
                {
                  "name": "Number_of_Transactions_Last_24H",
                  "dtype": "int64"
                },
                {
                  "name": "Payment_Method",
                  "dtype": "object"
                },
                {
                  "name": "_deepnote_index_column",
                  "dtype": "int64"
                }
              ],
              "rows": [
                {
                  "Transaction_Amount": 1292.76,
                  "Transaction_Type": "ATM Withdrawal",
                  "Time_of_Transaction": 16,
                  "Device_Used": "Tablet",
                  "Location": "San Francisco",
                  "Previous_Fraudulent_Transactions": 0,
                  "Account_Age": 119,
                  "Number_of_Transactions_Last_24H": 13,
                  "Payment_Method": "Debit Card",
                  "_deepnote_index_column": 0
                },
                {
                  "Transaction_Amount": 1554.58,
                  "Transaction_Type": "ATM Withdrawal",
                  "Time_of_Transaction": 13,
                  "Device_Used": "Mobile",
                  "Location": "New York",
                  "Previous_Fraudulent_Transactions": 4,
                  "Account_Age": 79,
                  "Number_of_Transactions_Last_24H": 3,
                  "Payment_Method": "Credit Card",
                  "_deepnote_index_column": 1
                },
                {
                  "Transaction_Amount": 100.1,
                  "Transaction_Type": "Bill Payment",
                  "Time_of_Transaction": 15,
                  "Device_Used": "Desktop",
                  "Location": "Chicago",
                  "Previous_Fraudulent_Transactions": 4,
                  "Account_Age": 3,
                  "Number_of_Transactions_Last_24H": 4,
                  "Payment_Method": "UPI",
                  "_deepnote_index_column": 3
                },
                {
                  "Transaction_Amount": 1490.5,
                  "Transaction_Type": "POS Payment",
                  "Time_of_Transaction": 19,
                  "Device_Used": "Mobile",
                  "Location": "San Francisco",
                  "Previous_Fraudulent_Transactions": 2,
                  "Account_Age": 57,
                  "Number_of_Transactions_Last_24H": 7,
                  "Payment_Method": "Credit Card",
                  "_deepnote_index_column": 4
                },
                {
                  "Transaction_Amount": 2372.04,
                  "Transaction_Type": "ATM Withdrawal",
                  "Time_of_Transaction": 15,
                  "Device_Used": "Desktop",
                  "Location": "Boston",
                  "Previous_Fraudulent_Transactions": 3,
                  "Account_Age": 96,
                  "Number_of_Transactions_Last_24H": 14,
                  "Payment_Method": "Credit Card",
                  "_deepnote_index_column": 5
                },
                {
                  "Transaction_Amount": 544.81,
                  "Transaction_Type": "Bill Payment",
                  "Time_of_Transaction": 2,
                  "Device_Used": "Tablet",
                  "Location": "Boston",
                  "Previous_Fraudulent_Transactions": 3,
                  "Account_Age": 6,
                  "Number_of_Transactions_Last_24H": 9,
                  "Payment_Method": "UPI",
                  "_deepnote_index_column": 6
                },
                {
                  "Transaction_Amount": 635.75,
                  "Transaction_Type": "ATM Withdrawal",
                  "Time_of_Transaction": 13,
                  "Device_Used": "Tablet",
                  "Location": "Boston",
                  "Previous_Fraudulent_Transactions": 2,
                  "Account_Age": 13,
                  "Number_of_Transactions_Last_24H": 10,
                  "Payment_Method": "Debit Card",
                  "_deepnote_index_column": 7
                },
                {
                  "Transaction_Amount": 3656.17,
                  "Transaction_Type": "Bill Payment",
                  "Time_of_Transaction": 3,
                  "Device_Used": "Mobile",
                  "Location": "Chicago",
                  "Previous_Fraudulent_Transactions": 4,
                  "Account_Age": 66,
                  "Number_of_Transactions_Last_24H": 3,
                  "Payment_Method": "Net Banking",
                  "_deepnote_index_column": 9
                },
                {
                  "Transaction_Amount": 2733.84,
                  "Transaction_Type": "Bill Payment",
                  "Time_of_Transaction": 20,
                  "Device_Used": "Mobile",
                  "Location": "San Francisco",
                  "Previous_Fraudulent_Transactions": 2,
                  "Account_Age": 68,
                  "Number_of_Transactions_Last_24H": 1,
                  "Payment_Method": "Credit Card",
                  "_deepnote_index_column": 11
                },
                {
                  "Transaction_Amount": 2376.37,
                  "Transaction_Type": "Bank Transfer",
                  "Time_of_Transaction": 0,
                  "Device_Used": "Mobile",
                  "Location": "Boston",
                  "Previous_Fraudulent_Transactions": 1,
                  "Account_Age": 25,
                  "Number_of_Transactions_Last_24H": 7,
                  "Payment_Method": "Net Banking",
                  "_deepnote_index_column": 12
                }
              ],
              "type": "dataframe"
            },
            "text/plain": "       Transaction_Amount Transaction_Type  Time_of_Transaction  \\\n0                 1292.76   ATM Withdrawal                 16.0   \n1                 1554.58   ATM Withdrawal                 13.0   \n3                  100.10     Bill Payment                 15.0   \n4                 1490.50      POS Payment                 19.0   \n5                 2372.04   ATM Withdrawal                 15.0   \n...                   ...              ...                  ...   \n50947             1073.04     Bill Payment                 14.0   \n50975             1826.49      POS Payment                 10.0   \n50985              544.53    Bank Transfer                 14.0   \n50997             2204.43      POS Payment                 18.0   \n50999              814.72      POS Payment                  3.0   \n\n          Device_Used       Location  Previous_Fraudulent_Transactions  \\\n0              Tablet  San Francisco                                 0   \n1              Mobile       New York                                 4   \n3             Desktop        Chicago                                 4   \n4              Mobile  San Francisco                                 2   \n5             Desktop         Boston                                 3   \n...               ...            ...                               ...   \n50947         Desktop        Houston                                 0   \n50975         Desktop        Houston                                 1   \n50985  Unknown Device        Chicago                                 4   \n50997          Mobile  San Francisco                                 3   \n50999          Tablet    Los Angeles                                 0   \n\n       Account_Age  Number_of_Transactions_Last_24H  Payment_Method  \n0              119                               13      Debit Card  \n1               79                                3     Credit Card  \n3                3                                4             UPI  \n4               57                                7     Credit Card  \n5               96                               14     Credit Card  \n...            ...                              ...             ...  \n50947           94                                3     Credit Card  \n50975           91                                4     Net Banking  \n50985           59                               12      Debit Card  \n50997           73                                5     Credit Card  \n50999           50                               10  Invalid Method  \n\n[38895 rows x 9 columns]",
            "text/html": "<div>\n<style scoped>\n    .dataframe tbody tr th:only-of-type {\n        vertical-align: middle;\n    }\n\n    .dataframe tbody tr th {\n        vertical-align: top;\n    }\n\n    .dataframe thead th {\n        text-align: right;\n    }\n</style>\n<table border=\"1\" class=\"dataframe\">\n  <thead>\n    <tr style=\"text-align: right;\">\n      <th></th>\n      <th>Transaction_Amount</th>\n      <th>Transaction_Type</th>\n      <th>Time_of_Transaction</th>\n      <th>Device_Used</th>\n      <th>Location</th>\n      <th>Previous_Fraudulent_Transactions</th>\n      <th>Account_Age</th>\n      <th>Number_of_Transactions_Last_24H</th>\n      <th>Payment_Method</th>\n    </tr>\n  </thead>\n  <tbody>\n    <tr>\n      <th>0</th>\n      <td>1292.76</td>\n      <td>ATM Withdrawal</td>\n      <td>16.0</td>\n      <td>Tablet</td>\n      <td>San Francisco</td>\n      <td>0</td>\n      <td>119</td>\n      <td>13</td>\n      <td>Debit Card</td>\n    </tr>\n    <tr>\n      <th>1</th>\n      <td>1554.58</td>\n      <td>ATM Withdrawal</td>\n      <td>13.0</td>\n      <td>Mobile</td>\n      <td>New York</td>\n      <td>4</td>\n      <td>79</td>\n      <td>3</td>\n      <td>Credit Card</td>\n    </tr>\n    <tr>\n      <th>3</th>\n      <td>100.10</td>\n      <td>Bill Payment</td>\n      <td>15.0</td>\n      <td>Desktop</td>\n      <td>Chicago</td>\n      <td>4</td>\n      <td>3</td>\n      <td>4</td>\n      <td>UPI</td>\n    </tr>\n    <tr>\n      <th>4</th>\n      <td>1490.50</td>\n      <td>POS Payment</td>\n      <td>19.0</td>\n      <td>Mobile</td>\n      <td>San Francisco</td>\n      <td>2</td>\n      <td>57</td>\n      <td>7</td>\n      <td>Credit Card</td>\n    </tr>\n    <tr>\n      <th>5</th>\n      <td>2372.04</td>\n      <td>ATM Withdrawal</td>\n      <td>15.0</td>\n      <td>Desktop</td>\n      <td>Boston</td>\n      <td>3</td>\n      <td>96</td>\n      <td>14</td>\n      <td>Credit Card</td>\n    </tr>\n    <tr>\n      <th>...</th>\n      <td>...</td>\n      <td>...</td>\n      <td>...</td>\n      <td>...</td>\n      <td>...</td>\n      <td>...</td>\n      <td>...</td>\n      <td>...</td>\n      <td>...</td>\n    </tr>\n    <tr>\n      <th>50947</th>\n      <td>1073.04</td>\n      <td>Bill Payment</td>\n      <td>14.0</td>\n      <td>Desktop</td>\n      <td>Houston</td>\n      <td>0</td>\n      <td>94</td>\n      <td>3</td>\n      <td>Credit Card</td>\n    </tr>\n    <tr>\n      <th>50975</th>\n      <td>1826.49</td>\n      <td>POS Payment</td>\n      <td>10.0</td>\n      <td>Desktop</td>\n      <td>Houston</td>\n      <td>1</td>\n      <td>91</td>\n      <td>4</td>\n      <td>Net Banking</td>\n    </tr>\n    <tr>\n      <th>50985</th>\n      <td>544.53</td>\n      <td>Bank Transfer</td>\n      <td>14.0</td>\n      <td>Unknown Device</td>\n      <td>Chicago</td>\n      <td>4</td>\n      <td>59</td>\n      <td>12</td>\n      <td>Debit Card</td>\n    </tr>\n    <tr>\n      <th>50997</th>\n      <td>2204.43</td>\n      <td>POS Payment</td>\n      <td>18.0</td>\n      <td>Mobile</td>\n      <td>San Francisco</td>\n      <td>3</td>\n      <td>73</td>\n      <td>5</td>\n      <td>Credit Card</td>\n    </tr>\n    <tr>\n      <th>50999</th>\n      <td>814.72</td>\n      <td>POS Payment</td>\n      <td>3.0</td>\n      <td>Tablet</td>\n      <td>Los Angeles</td>\n      <td>0</td>\n      <td>50</td>\n      <td>10</td>\n      <td>Invalid Method</td>\n    </tr>\n  </tbody>\n</table>\n<p>38895 rows × 9 columns</p>\n</div>"
          },
          "metadata": {}
        }
      ],
      "outputs_reference": null,
      "content_dependencies": null
    },
    {
      "cell_type": "markdown",
      "metadata": {
        "formattedRanges": [],
        "cell_id": "cabc79d9efc34dc3b0a1d4fb47a7bc58",
        "deepnote_cell_type": "text-cell-h3"
      },
      "source": "### 1.3.2 Encode Categorical Features",
      "block_group": "dde9df1ae4ec4d40acd050c1900e1302"
    },
    {
      "cell_type": "markdown",
      "metadata": {
        "formattedRanges": [],
        "cell_id": "cd6ea46977ca4d66bb338df4fc2359bd",
        "deepnote_cell_type": "text-cell-p"
      },
      "source": "Using Frequency Encoding for Encode 'Location' features because it has 8 unique value and to prevent dimension increase. Using one hot encoding for encode 'Transaction_Type', 'Device_Used',  and 'Payment_Method' because it has a few unique values",
      "block_group": "b8e2212844ef4c189bc364d84b2cad5e"
    },
    {
      "cell_type": "code",
      "metadata": {
        "source_hash": "89b4507e",
        "execution_start": 1743505430095,
        "execution_millis": 1,
        "execution_context_id": "298f0d3c-086d-414d-acea-34d98d3fbd8d",
        "cell_id": "527d97d1df3b493ebe3fe61fe82ba196",
        "deepnote_cell_type": "code"
      },
      "source": "#membuat list `cat_cols` yang berisi nama kolom kategorikal, kecuali kolom 'Location'\ncat_cols = [col for col in categorical if col != 'Location']\n\n#membuat salinan DataFrame `df_cleaned` ke dalam `df_encoded` untuk menjaga DataFrame asli tetap utuh\ndf_encoded = df_cleaned.copy()\n\n#mengonversi kolom 'Location' menjadi probabilitas kategori berdasarkan frekuensi kemunculan setiap kategori `value_counts(normalize=True)` kemudian menghitung proporsi relatif untuk masing-masing kategori dalam kolom 'Location'\ndf_encoded['Location'] = df_encoded['Location'].map(df_cleaned['Location'].value_counts(normalize=True))\n\n#mengonversi kolom kategorikal yang ada di `cat_cols` menjadi kolom dummy (variabel biner) dan dengan `drop_first=False` memastikan kita tidak menghilangkan kategori referensi\ndummy_columns = pd.get_dummies(df_cleaned[cat_cols], drop_first=False)\n\n#menghapus kolom kategorikal asli dari DataFrame `df_encoded`\ndf_encoded = df_encoded.drop(cat_cols, axis=1)\n\n#menggabungkan kolom dummy yang dihasilkan dengan DataFrame `df_encoded`\ndf_encoded = pd.concat([df_encoded, dummy_columns], axis=1)\n\n#mengubah nilai boolean (True/False) pada kolom dummy menjadi angka 1 dan 0\ndf_encoded.iloc[:, -14:] = df_encoded.iloc[:, -14:].apply(lambda x: x.map({True: 1, False: 0}))",
      "block_group": "7bc6e1d456e44351876130c643bf0aa4",
      "execution_count": 13,
      "outputs": [],
      "outputs_reference": null,
      "content_dependencies": null
    },
    {
      "cell_type": "code",
      "metadata": {
        "source_hash": "715f7f21",
        "execution_start": 1743505430155,
        "execution_millis": 1,
        "execution_context_id": "298f0d3c-086d-414d-acea-34d98d3fbd8d",
        "cell_id": "277fabfa551b4c088d01befb08d3c4cf",
        "deepnote_cell_type": "code"
      },
      "source": "df_encoded\n#menampilkan dataframe 'df_encoded' setelah dilakukan encoding",
      "block_group": "381184eb2b934b169c5cefa2603edb44",
      "execution_count": 14,
      "outputs": [
        {
          "output_type": "execute_result",
          "execution_count": 14,
          "data": {
            "application/vnd.deepnote.dataframe.v3+json": {
              "column_count": 20,
              "row_count": 38895,
              "columns": [
                {
                  "name": "Transaction_Amount",
                  "dtype": "float64",
                  "stats": {
                    "unique_count": 36916,
                    "nan_count": 0,
                    "min": "5.03",
                    "max": "49997.7999999999",
                    "histogram": [
                      {
                        "bin_start": 5.03,
                        "bin_end": 5004.30699999999,
                        "count": 38484
                      },
                      {
                        "bin_start": 5004.30699999999,
                        "bin_end": 10003.58399999998,
                        "count": 0
                      },
                      {
                        "bin_start": 10003.58399999998,
                        "bin_end": 15002.86099999997,
                        "count": 0
                      },
                      {
                        "bin_start": 15002.86099999997,
                        "bin_end": 20002.13799999996,
                        "count": 0
                      },
                      {
                        "bin_start": 20002.13799999996,
                        "bin_end": 25001.41499999995,
                        "count": 0
                      },
                      {
                        "bin_start": 25001.41499999995,
                        "bin_end": 30000.691999999937,
                        "count": 0
                      },
                      {
                        "bin_start": 30000.691999999937,
                        "bin_end": 34999.96899999993,
                        "count": 0
                      },
                      {
                        "bin_start": 34999.96899999993,
                        "bin_end": 39999.24599999992,
                        "count": 0
                      },
                      {
                        "bin_start": 39999.24599999992,
                        "bin_end": 44998.52299999991,
                        "count": 0
                      },
                      {
                        "bin_start": 44998.52299999991,
                        "bin_end": 49997.7999999999,
                        "count": 411
                      }
                    ]
                  }
                },
                {
                  "name": "Time_of_Transaction",
                  "dtype": "float64",
                  "stats": {
                    "unique_count": 24,
                    "nan_count": 0,
                    "min": "0.0",
                    "max": "23.0",
                    "histogram": [
                      {
                        "bin_start": 0,
                        "bin_end": 2.3,
                        "count": 4912
                      },
                      {
                        "bin_start": 2.3,
                        "bin_end": 4.6,
                        "count": 3272
                      },
                      {
                        "bin_start": 4.6,
                        "bin_end": 6.8999999999999995,
                        "count": 3249
                      },
                      {
                        "bin_start": 6.8999999999999995,
                        "bin_end": 9.2,
                        "count": 4805
                      },
                      {
                        "bin_start": 9.2,
                        "bin_end": 11.5,
                        "count": 3219
                      },
                      {
                        "bin_start": 11.5,
                        "bin_end": 13.799999999999999,
                        "count": 3282
                      },
                      {
                        "bin_start": 13.799999999999999,
                        "bin_end": 16.099999999999998,
                        "count": 4919
                      },
                      {
                        "bin_start": 16.099999999999998,
                        "bin_end": 18.4,
                        "count": 3335
                      },
                      {
                        "bin_start": 18.4,
                        "bin_end": 20.7,
                        "count": 3135
                      },
                      {
                        "bin_start": 20.7,
                        "bin_end": 23,
                        "count": 4767
                      }
                    ]
                  }
                },
                {
                  "name": "Location",
                  "dtype": "float64"
                },
                {
                  "name": "Previous_Fraudulent_Transactions",
                  "dtype": "int64"
                },
                {
                  "name": "Account_Age",
                  "dtype": "int64"
                },
                {
                  "name": "Number_of_Transactions_Last_24H",
                  "dtype": "int64"
                },
                {
                  "name": "Transaction_Type_ATM Withdrawal",
                  "dtype": "int64"
                },
                {
                  "name": "Transaction_Type_Bank Transfer",
                  "dtype": "int64"
                },
                {
                  "name": "Transaction_Type_Bill Payment",
                  "dtype": "int64"
                },
                {
                  "name": "Transaction_Type_Online Purchase",
                  "dtype": "int64"
                },
                {
                  "name": "Transaction_Type_POS Payment",
                  "dtype": "int64"
                },
                {
                  "name": "Device_Used_Desktop",
                  "dtype": "int64"
                },
                {
                  "name": "Device_Used_Mobile",
                  "dtype": "int64"
                },
                {
                  "name": "Device_Used_Tablet",
                  "dtype": "int64"
                },
                {
                  "name": "Device_Used_Unknown Device",
                  "dtype": "int64"
                },
                {
                  "name": "Payment_Method_Credit Card",
                  "dtype": "int64"
                },
                {
                  "name": "Payment_Method_Debit Card",
                  "dtype": "int64"
                },
                {
                  "name": "Payment_Method_Invalid Method",
                  "dtype": "int64"
                },
                {
                  "name": "Payment_Method_Net Banking",
                  "dtype": "int64"
                },
                {
                  "name": "Payment_Method_UPI",
                  "dtype": "int64"
                },
                {
                  "name": "_deepnote_index_column",
                  "dtype": "int64"
                }
              ],
              "rows": [
                {
                  "Transaction_Amount": 1292.76,
                  "Time_of_Transaction": 16,
                  "Location": 0.12451471911556755,
                  "Previous_Fraudulent_Transactions": 0,
                  "Account_Age": 119,
                  "Number_of_Transactions_Last_24H": 13,
                  "Transaction_Type_ATM Withdrawal": 1,
                  "Transaction_Type_Bank Transfer": 0,
                  "Transaction_Type_Bill Payment": 0,
                  "Transaction_Type_Online Purchase": 0,
                  "Transaction_Type_POS Payment": 0,
                  "Device_Used_Desktop": 0,
                  "Device_Used_Mobile": 0,
                  "Device_Used_Tablet": 1,
                  "Device_Used_Unknown Device": 0,
                  "Payment_Method_Credit Card": 0,
                  "Payment_Method_Debit Card": 1,
                  "Payment_Method_Invalid Method": 0,
                  "Payment_Method_Net Banking": 0,
                  "Payment_Method_UPI": 0,
                  "_deepnote_index_column": 0
                },
                {
                  "Transaction_Amount": 1554.58,
                  "Time_of_Transaction": 13,
                  "Location": 0.12520889574495436,
                  "Previous_Fraudulent_Transactions": 4,
                  "Account_Age": 79,
                  "Number_of_Transactions_Last_24H": 3,
                  "Transaction_Type_ATM Withdrawal": 1,
                  "Transaction_Type_Bank Transfer": 0,
                  "Transaction_Type_Bill Payment": 0,
                  "Transaction_Type_Online Purchase": 0,
                  "Transaction_Type_POS Payment": 0,
                  "Device_Used_Desktop": 0,
                  "Device_Used_Mobile": 1,
                  "Device_Used_Tablet": 0,
                  "Device_Used_Unknown Device": 0,
                  "Payment_Method_Credit Card": 1,
                  "Payment_Method_Debit Card": 0,
                  "Payment_Method_Invalid Method": 0,
                  "Payment_Method_Net Banking": 0,
                  "Payment_Method_UPI": 0,
                  "_deepnote_index_column": 1
                },
                {
                  "Transaction_Amount": 100.1,
                  "Time_of_Transaction": 15,
                  "Location": 0.12469469083429746,
                  "Previous_Fraudulent_Transactions": 4,
                  "Account_Age": 3,
                  "Number_of_Transactions_Last_24H": 4,
                  "Transaction_Type_ATM Withdrawal": 0,
                  "Transaction_Type_Bank Transfer": 0,
                  "Transaction_Type_Bill Payment": 1,
                  "Transaction_Type_Online Purchase": 0,
                  "Transaction_Type_POS Payment": 0,
                  "Device_Used_Desktop": 1,
                  "Device_Used_Mobile": 0,
                  "Device_Used_Tablet": 0,
                  "Device_Used_Unknown Device": 0,
                  "Payment_Method_Credit Card": 0,
                  "Payment_Method_Debit Card": 0,
                  "Payment_Method_Invalid Method": 0,
                  "Payment_Method_Net Banking": 0,
                  "Payment_Method_UPI": 1,
                  "_deepnote_index_column": 3
                },
                {
                  "Transaction_Amount": 1490.5,
                  "Time_of_Transaction": 19,
                  "Location": 0.12451471911556755,
                  "Previous_Fraudulent_Transactions": 2,
                  "Account_Age": 57,
                  "Number_of_Transactions_Last_24H": 7,
                  "Transaction_Type_ATM Withdrawal": 0,
                  "Transaction_Type_Bank Transfer": 0,
                  "Transaction_Type_Bill Payment": 0,
                  "Transaction_Type_Online Purchase": 0,
                  "Transaction_Type_POS Payment": 1,
                  "Device_Used_Desktop": 0,
                  "Device_Used_Mobile": 1,
                  "Device_Used_Tablet": 0,
                  "Device_Used_Unknown Device": 0,
                  "Payment_Method_Credit Card": 1,
                  "Payment_Method_Debit Card": 0,
                  "Payment_Method_Invalid Method": 0,
                  "Payment_Method_Net Banking": 0,
                  "Payment_Method_UPI": 0,
                  "_deepnote_index_column": 4
                },
                {
                  "Transaction_Amount": 2372.04,
                  "Time_of_Transaction": 15,
                  "Location": 0.1272914256331148,
                  "Previous_Fraudulent_Transactions": 3,
                  "Account_Age": 96,
                  "Number_of_Transactions_Last_24H": 14,
                  "Transaction_Type_ATM Withdrawal": 1,
                  "Transaction_Type_Bank Transfer": 0,
                  "Transaction_Type_Bill Payment": 0,
                  "Transaction_Type_Online Purchase": 0,
                  "Transaction_Type_POS Payment": 0,
                  "Device_Used_Desktop": 1,
                  "Device_Used_Mobile": 0,
                  "Device_Used_Tablet": 0,
                  "Device_Used_Unknown Device": 0,
                  "Payment_Method_Credit Card": 1,
                  "Payment_Method_Debit Card": 0,
                  "Payment_Method_Invalid Method": 0,
                  "Payment_Method_Net Banking": 0,
                  "Payment_Method_UPI": 0,
                  "_deepnote_index_column": 5
                },
                {
                  "Transaction_Amount": 544.81,
                  "Time_of_Transaction": 2,
                  "Location": 0.1272914256331148,
                  "Previous_Fraudulent_Transactions": 3,
                  "Account_Age": 6,
                  "Number_of_Transactions_Last_24H": 9,
                  "Transaction_Type_ATM Withdrawal": 0,
                  "Transaction_Type_Bank Transfer": 0,
                  "Transaction_Type_Bill Payment": 1,
                  "Transaction_Type_Online Purchase": 0,
                  "Transaction_Type_POS Payment": 0,
                  "Device_Used_Desktop": 0,
                  "Device_Used_Mobile": 0,
                  "Device_Used_Tablet": 1,
                  "Device_Used_Unknown Device": 0,
                  "Payment_Method_Credit Card": 0,
                  "Payment_Method_Debit Card": 0,
                  "Payment_Method_Invalid Method": 0,
                  "Payment_Method_Net Banking": 0,
                  "Payment_Method_UPI": 1,
                  "_deepnote_index_column": 6
                },
                {
                  "Transaction_Amount": 635.75,
                  "Time_of_Transaction": 13,
                  "Location": 0.1272914256331148,
                  "Previous_Fraudulent_Transactions": 2,
                  "Account_Age": 13,
                  "Number_of_Transactions_Last_24H": 10,
                  "Transaction_Type_ATM Withdrawal": 1,
                  "Transaction_Type_Bank Transfer": 0,
                  "Transaction_Type_Bill Payment": 0,
                  "Transaction_Type_Online Purchase": 0,
                  "Transaction_Type_POS Payment": 0,
                  "Device_Used_Desktop": 0,
                  "Device_Used_Mobile": 0,
                  "Device_Used_Tablet": 1,
                  "Device_Used_Unknown Device": 0,
                  "Payment_Method_Credit Card": 0,
                  "Payment_Method_Debit Card": 1,
                  "Payment_Method_Invalid Method": 0,
                  "Payment_Method_Net Banking": 0,
                  "Payment_Method_UPI": 0,
                  "_deepnote_index_column": 7
                },
                {
                  "Transaction_Amount": 3656.17,
                  "Time_of_Transaction": 3,
                  "Location": 0.12469469083429746,
                  "Previous_Fraudulent_Transactions": 4,
                  "Account_Age": 66,
                  "Number_of_Transactions_Last_24H": 3,
                  "Transaction_Type_ATM Withdrawal": 0,
                  "Transaction_Type_Bank Transfer": 0,
                  "Transaction_Type_Bill Payment": 1,
                  "Transaction_Type_Online Purchase": 0,
                  "Transaction_Type_POS Payment": 0,
                  "Device_Used_Desktop": 0,
                  "Device_Used_Mobile": 1,
                  "Device_Used_Tablet": 0,
                  "Device_Used_Unknown Device": 0,
                  "Payment_Method_Credit Card": 0,
                  "Payment_Method_Debit Card": 0,
                  "Payment_Method_Invalid Method": 0,
                  "Payment_Method_Net Banking": 1,
                  "Payment_Method_UPI": 0,
                  "_deepnote_index_column": 9
                },
                {
                  "Transaction_Amount": 2733.84,
                  "Time_of_Transaction": 20,
                  "Location": 0.12451471911556755,
                  "Previous_Fraudulent_Transactions": 2,
                  "Account_Age": 68,
                  "Number_of_Transactions_Last_24H": 1,
                  "Transaction_Type_ATM Withdrawal": 0,
                  "Transaction_Type_Bank Transfer": 0,
                  "Transaction_Type_Bill Payment": 1,
                  "Transaction_Type_Online Purchase": 0,
                  "Transaction_Type_POS Payment": 0,
                  "Device_Used_Desktop": 0,
                  "Device_Used_Mobile": 1,
                  "Device_Used_Tablet": 0,
                  "Device_Used_Unknown Device": 0,
                  "Payment_Method_Credit Card": 1,
                  "Payment_Method_Debit Card": 0,
                  "Payment_Method_Invalid Method": 0,
                  "Payment_Method_Net Banking": 0,
                  "Payment_Method_UPI": 0,
                  "_deepnote_index_column": 11
                },
                {
                  "Transaction_Amount": 2376.37,
                  "Time_of_Transaction": 0,
                  "Location": 0.1272914256331148,
                  "Previous_Fraudulent_Transactions": 1,
                  "Account_Age": 25,
                  "Number_of_Transactions_Last_24H": 7,
                  "Transaction_Type_ATM Withdrawal": 0,
                  "Transaction_Type_Bank Transfer": 1,
                  "Transaction_Type_Bill Payment": 0,
                  "Transaction_Type_Online Purchase": 0,
                  "Transaction_Type_POS Payment": 0,
                  "Device_Used_Desktop": 0,
                  "Device_Used_Mobile": 1,
                  "Device_Used_Tablet": 0,
                  "Device_Used_Unknown Device": 0,
                  "Payment_Method_Credit Card": 0,
                  "Payment_Method_Debit Card": 0,
                  "Payment_Method_Invalid Method": 0,
                  "Payment_Method_Net Banking": 1,
                  "Payment_Method_UPI": 0,
                  "_deepnote_index_column": 12
                }
              ],
              "type": "dataframe"
            },
            "text/plain": "       Transaction_Amount  Time_of_Transaction  Location  \\\n0                 1292.76                 16.0  0.124515   \n1                 1554.58                 13.0  0.125209   \n3                  100.10                 15.0  0.124695   \n4                 1490.50                 19.0  0.124515   \n5                 2372.04                 15.0  0.127291   \n...                   ...                  ...       ...   \n50947             1073.04                 14.0  0.123358   \n50975             1826.49                 10.0  0.123358   \n50985              544.53                 14.0  0.124695   \n50997             2204.43                 18.0  0.124515   \n50999              814.72                  3.0  0.125029   \n\n       Previous_Fraudulent_Transactions  Account_Age  \\\n0                                     0          119   \n1                                     4           79   \n3                                     4            3   \n4                                     2           57   \n5                                     3           96   \n...                                 ...          ...   \n50947                                 0           94   \n50975                                 1           91   \n50985                                 4           59   \n50997                                 3           73   \n50999                                 0           50   \n\n       Number_of_Transactions_Last_24H  Transaction_Type_ATM Withdrawal  \\\n0                                   13                                1   \n1                                    3                                1   \n3                                    4                                0   \n4                                    7                                0   \n5                                   14                                1   \n...                                ...                              ...   \n50947                                3                                0   \n50975                                4                                0   \n50985                               12                                0   \n50997                                5                                0   \n50999                               10                                0   \n\n       Transaction_Type_Bank Transfer  Transaction_Type_Bill Payment  \\\n0                                   0                              0   \n1                                   0                              0   \n3                                   0                              1   \n4                                   0                              0   \n5                                   0                              0   \n...                               ...                            ...   \n50947                               0                              1   \n50975                               0                              0   \n50985                               1                              0   \n50997                               0                              0   \n50999                               0                              0   \n\n       Transaction_Type_Online Purchase  Transaction_Type_POS Payment  \\\n0                                     0                             0   \n1                                     0                             0   \n3                                     0                             0   \n4                                     0                             1   \n5                                     0                             0   \n...                                 ...                           ...   \n50947                                 0                             0   \n50975                                 0                             1   \n50985                                 0                             0   \n50997                                 0                             1   \n50999                                 0                             1   \n\n       Device_Used_Desktop  Device_Used_Mobile  Device_Used_Tablet  \\\n0                        0                   0                   1   \n1                        0                   1                   0   \n3                        1                   0                   0   \n4                        0                   1                   0   \n5                        1                   0                   0   \n...                    ...                 ...                 ...   \n50947                    1                   0                   0   \n50975                    1                   0                   0   \n50985                    0                   0                   0   \n50997                    0                   1                   0   \n50999                    0                   0                   1   \n\n       Device_Used_Unknown Device  Payment_Method_Credit Card  \\\n0                               0                           0   \n1                               0                           1   \n3                               0                           0   \n4                               0                           1   \n5                               0                           1   \n...                           ...                         ...   \n50947                           0                           1   \n50975                           0                           0   \n50985                           1                           0   \n50997                           0                           1   \n50999                           0                           0   \n\n       Payment_Method_Debit Card  Payment_Method_Invalid Method  \\\n0                              1                              0   \n1                              0                              0   \n3                              0                              0   \n4                              0                              0   \n5                              0                              0   \n...                          ...                            ...   \n50947                          0                              0   \n50975                          0                              0   \n50985                          1                              0   \n50997                          0                              0   \n50999                          0                              1   \n\n       Payment_Method_Net Banking  Payment_Method_UPI  \n0                               0                   0  \n1                               0                   0  \n3                               0                   1  \n4                               0                   0  \n5                               0                   0  \n...                           ...                 ...  \n50947                           0                   0  \n50975                           1                   0  \n50985                           0                   0  \n50997                           0                   0  \n50999                           0                   0  \n\n[38895 rows x 20 columns]",
            "text/html": "<div>\n<style scoped>\n    .dataframe tbody tr th:only-of-type {\n        vertical-align: middle;\n    }\n\n    .dataframe tbody tr th {\n        vertical-align: top;\n    }\n\n    .dataframe thead th {\n        text-align: right;\n    }\n</style>\n<table border=\"1\" class=\"dataframe\">\n  <thead>\n    <tr style=\"text-align: right;\">\n      <th></th>\n      <th>Transaction_Amount</th>\n      <th>Time_of_Transaction</th>\n      <th>Location</th>\n      <th>Previous_Fraudulent_Transactions</th>\n      <th>Account_Age</th>\n      <th>Number_of_Transactions_Last_24H</th>\n      <th>Transaction_Type_ATM Withdrawal</th>\n      <th>Transaction_Type_Bank Transfer</th>\n      <th>Transaction_Type_Bill Payment</th>\n      <th>Transaction_Type_Online Purchase</th>\n      <th>Transaction_Type_POS Payment</th>\n      <th>Device_Used_Desktop</th>\n      <th>Device_Used_Mobile</th>\n      <th>Device_Used_Tablet</th>\n      <th>Device_Used_Unknown Device</th>\n      <th>Payment_Method_Credit Card</th>\n      <th>Payment_Method_Debit Card</th>\n      <th>Payment_Method_Invalid Method</th>\n      <th>Payment_Method_Net Banking</th>\n      <th>Payment_Method_UPI</th>\n    </tr>\n  </thead>\n  <tbody>\n    <tr>\n      <th>0</th>\n      <td>1292.76</td>\n      <td>16.0</td>\n      <td>0.124515</td>\n      <td>0</td>\n      <td>119</td>\n      <td>13</td>\n      <td>1</td>\n      <td>0</td>\n      <td>0</td>\n      <td>0</td>\n      <td>0</td>\n      <td>0</td>\n      <td>0</td>\n      <td>1</td>\n      <td>0</td>\n      <td>0</td>\n      <td>1</td>\n      <td>0</td>\n      <td>0</td>\n      <td>0</td>\n    </tr>\n    <tr>\n      <th>1</th>\n      <td>1554.58</td>\n      <td>13.0</td>\n      <td>0.125209</td>\n      <td>4</td>\n      <td>79</td>\n      <td>3</td>\n      <td>1</td>\n      <td>0</td>\n      <td>0</td>\n      <td>0</td>\n      <td>0</td>\n      <td>0</td>\n      <td>1</td>\n      <td>0</td>\n      <td>0</td>\n      <td>1</td>\n      <td>0</td>\n      <td>0</td>\n      <td>0</td>\n      <td>0</td>\n    </tr>\n    <tr>\n      <th>3</th>\n      <td>100.10</td>\n      <td>15.0</td>\n      <td>0.124695</td>\n      <td>4</td>\n      <td>3</td>\n      <td>4</td>\n      <td>0</td>\n      <td>0</td>\n      <td>1</td>\n      <td>0</td>\n      <td>0</td>\n      <td>1</td>\n      <td>0</td>\n      <td>0</td>\n      <td>0</td>\n      <td>0</td>\n      <td>0</td>\n      <td>0</td>\n      <td>0</td>\n      <td>1</td>\n    </tr>\n    <tr>\n      <th>4</th>\n      <td>1490.50</td>\n      <td>19.0</td>\n      <td>0.124515</td>\n      <td>2</td>\n      <td>57</td>\n      <td>7</td>\n      <td>0</td>\n      <td>0</td>\n      <td>0</td>\n      <td>0</td>\n      <td>1</td>\n      <td>0</td>\n      <td>1</td>\n      <td>0</td>\n      <td>0</td>\n      <td>1</td>\n      <td>0</td>\n      <td>0</td>\n      <td>0</td>\n      <td>0</td>\n    </tr>\n    <tr>\n      <th>5</th>\n      <td>2372.04</td>\n      <td>15.0</td>\n      <td>0.127291</td>\n      <td>3</td>\n      <td>96</td>\n      <td>14</td>\n      <td>1</td>\n      <td>0</td>\n      <td>0</td>\n      <td>0</td>\n      <td>0</td>\n      <td>1</td>\n      <td>0</td>\n      <td>0</td>\n      <td>0</td>\n      <td>1</td>\n      <td>0</td>\n      <td>0</td>\n      <td>0</td>\n      <td>0</td>\n    </tr>\n    <tr>\n      <th>...</th>\n      <td>...</td>\n      <td>...</td>\n      <td>...</td>\n      <td>...</td>\n      <td>...</td>\n      <td>...</td>\n      <td>...</td>\n      <td>...</td>\n      <td>...</td>\n      <td>...</td>\n      <td>...</td>\n      <td>...</td>\n      <td>...</td>\n      <td>...</td>\n      <td>...</td>\n      <td>...</td>\n      <td>...</td>\n      <td>...</td>\n      <td>...</td>\n      <td>...</td>\n    </tr>\n    <tr>\n      <th>50947</th>\n      <td>1073.04</td>\n      <td>14.0</td>\n      <td>0.123358</td>\n      <td>0</td>\n      <td>94</td>\n      <td>3</td>\n      <td>0</td>\n      <td>0</td>\n      <td>1</td>\n      <td>0</td>\n      <td>0</td>\n      <td>1</td>\n      <td>0</td>\n      <td>0</td>\n      <td>0</td>\n      <td>1</td>\n      <td>0</td>\n      <td>0</td>\n      <td>0</td>\n      <td>0</td>\n    </tr>\n    <tr>\n      <th>50975</th>\n      <td>1826.49</td>\n      <td>10.0</td>\n      <td>0.123358</td>\n      <td>1</td>\n      <td>91</td>\n      <td>4</td>\n      <td>0</td>\n      <td>0</td>\n      <td>0</td>\n      <td>0</td>\n      <td>1</td>\n      <td>1</td>\n      <td>0</td>\n      <td>0</td>\n      <td>0</td>\n      <td>0</td>\n      <td>0</td>\n      <td>0</td>\n      <td>1</td>\n      <td>0</td>\n    </tr>\n    <tr>\n      <th>50985</th>\n      <td>544.53</td>\n      <td>14.0</td>\n      <td>0.124695</td>\n      <td>4</td>\n      <td>59</td>\n      <td>12</td>\n      <td>0</td>\n      <td>1</td>\n      <td>0</td>\n      <td>0</td>\n      <td>0</td>\n      <td>0</td>\n      <td>0</td>\n      <td>0</td>\n      <td>1</td>\n      <td>0</td>\n      <td>1</td>\n      <td>0</td>\n      <td>0</td>\n      <td>0</td>\n    </tr>\n    <tr>\n      <th>50997</th>\n      <td>2204.43</td>\n      <td>18.0</td>\n      <td>0.124515</td>\n      <td>3</td>\n      <td>73</td>\n      <td>5</td>\n      <td>0</td>\n      <td>0</td>\n      <td>0</td>\n      <td>0</td>\n      <td>1</td>\n      <td>0</td>\n      <td>1</td>\n      <td>0</td>\n      <td>0</td>\n      <td>1</td>\n      <td>0</td>\n      <td>0</td>\n      <td>0</td>\n      <td>0</td>\n    </tr>\n    <tr>\n      <th>50999</th>\n      <td>814.72</td>\n      <td>3.0</td>\n      <td>0.125029</td>\n      <td>0</td>\n      <td>50</td>\n      <td>10</td>\n      <td>0</td>\n      <td>0</td>\n      <td>0</td>\n      <td>0</td>\n      <td>1</td>\n      <td>0</td>\n      <td>0</td>\n      <td>1</td>\n      <td>0</td>\n      <td>0</td>\n      <td>0</td>\n      <td>1</td>\n      <td>0</td>\n      <td>0</td>\n    </tr>\n  </tbody>\n</table>\n<p>38895 rows × 20 columns</p>\n</div>"
          },
          "metadata": {}
        }
      ],
      "outputs_reference": null,
      "content_dependencies": null
    },
    {
      "cell_type": "markdown",
      "metadata": {
        "formattedRanges": [],
        "cell_id": "63b15129b0e14921a920936ea7491b25",
        "deepnote_cell_type": "text-cell-h2"
      },
      "source": "## 1.4 Handling Outlier",
      "block_group": "940215f137fc4f8280e3edddafdcb8db"
    },
    {
      "cell_type": "markdown",
      "metadata": {
        "formattedRanges": [],
        "cell_id": "aa682133060c4d10becd97dfb0d4b56d",
        "deepnote_cell_type": "text-cell-h3"
      },
      "source": "### 1.4.1 Outlier Detection",
      "block_group": "9dba2a268ec24d6795f1df5b58108528"
    },
    {
      "cell_type": "markdown",
      "metadata": {
        "formattedRanges": [],
        "cell_id": "f1c1acbe08984f67b6fea15346d5fbd1",
        "deepnote_cell_type": "text-cell-p"
      },
      "source": "Outlier Detection using Visualization",
      "block_group": "d004b072afdd4e67a754cee2688cb2a9"
    },
    {
      "cell_type": "code",
      "metadata": {
        "source_hash": "9c36415",
        "execution_start": 1743505430215,
        "execution_millis": 2033,
        "execution_context_id": "298f0d3c-086d-414d-acea-34d98d3fbd8d",
        "cell_id": "2d6e4456748546c2ac9917cf207fe48a",
        "deepnote_cell_type": "code"
      },
      "source": "sns.set_style('whitegrid')\nfig, axes = plt.subplots(2, 3, figsize=(20, 15))\n\n#plot for Transaction_Amount\nsns.histplot(df_encoded['Transaction_Amount'], bins=50, kde=True, ax=axes[0, 0], color='blue')\naxes[0, 0].set_title('Distribution of Transaction_Amount')\naxes[0, 0].set_xlabel('Transaction_Amount')\naxes[0, 0].set_ylabel('Frequency')\n\n#plot for Time_of_Transaction\nsns.histplot(df_encoded['Time_of_Transaction'], bins=50, kde=True, ax=axes[0, 1], color='red')\naxes[0, 1].set_title('Distribution of Time_of_Transaction')\naxes[0, 1].set_xlabel('Time_of_Transaction')\naxes[0, 1].set_ylabel('Frequency')\n\n#plot for Location\nsns.countplot(x='Location', data=df_encoded, ax=axes[0, 2], color='yellow')\naxes[0, 2].set_title('Distribution of Location')\naxes[0, 2].set_xlabel('Location')\naxes[0, 2].set_ylabel('Frequency')\n\n#plot for Previous_Fraudulent_Transactions\nsns.countplot(x='Previous_Fraudulent_Transactions', data=df_encoded, ax=axes[1, 0], color='black')\naxes[1, 0].set_title('Distribution of Previous_Fraudulent_Transactions')\naxes[1, 0].set_xlabel('Previous_Fraudulent_Transactions')\naxes[1, 0].set_ylabel('Frequency')\n\n#plot for Account_Age\nsns.histplot(df_encoded['Account_Age'], bins=50, kde=True, ax=axes[1, 1], color='green')\naxes[1, 1].set_title('Distribution of Account_Age')\naxes[1, 1].set_xlabel('Account_Age')\naxes[1, 1].set_ylabel('Frequency')\n\n#plot for Number_of_Transactions_Last_24H\nsns.countplot(x='Number_of_Transactions_Last_24H', data=df_encoded, ax=axes[1, 2], color='purple')\naxes[1, 2].set_title('Distribution of Number_of_Transactions_Last_24H')\naxes[1, 2].set_xlabel('Number_of_Transactions_Last_24H')\naxes[1, 2].set_ylabel('Frequency')\n\nplt.tight_layout()\nplt.show()\n#membuat visualisasi dalam bentuk plot menggunakan seaborn untuk melihat distribusi dari setiap kolom\n#menampilkan histogram dengan KDE untuk variabel numerik ('Transaction_Amount', 'Time_of_Transaction', dan 'Account_Age')untuk melihat pola distribusi data\n#menggunakan countplot untuk variabel kategorikal ('Location', 'Previous_Fraudulent_Transactions', dan 'Number_of_Transactions_Last_24H') untuk melihat jumlah kemunculan tiap kategori\n#warna berbeda digunakan untuk membedakan setiap plot agar lebih mudah dianalisis.\n#plt.tight_layout() digunakan untuk mencegah tumpang tindih antar plot dan memastikan tampilan lebih rapi.\n#plt.show() digunakan untuk menampilkan semua plot yang telah dibuat.\n",
      "block_group": "43e7bc21252341ce92518ec37a3aca10",
      "execution_count": 15,
      "outputs": [
        {
          "data": {
            "text/plain": "<Figure size 2000x1500 with 6 Axes>",
            "image/png": "[encoded data removed]"
          },
          "metadata": {
            "image/png": {
              "width": 1983,
              "height": 1490
            }
          },
          "output_type": "display_data"
        }
      ],
      "outputs_reference": null,
      "content_dependencies": null
    },
    {
      "cell_type": "markdown",
      "metadata": {
        "formattedRanges": [],
        "cell_id": "255806937c8f47e9aea8d8163f23c4b9",
        "deepnote_cell_type": "text-cell-p"
      },
      "source": "pada distribusi data 'Transaction_Amount' sangat condong ke kiri, hal ini menunjukkan adanya beberapa transaksi dengan jumlah yang sangat besar di bawah 10000, terdapat juga kemungkinan outlier. Distribusi dari data 'Account_Age' cukup merata dengan pola yang mirip normal, meskipun ada sedikit fluktuasi.",
      "block_group": "d6c0559ed32f4b0a8e2ed2d8c832a6ef"
    },
    {
      "cell_type": "code",
      "metadata": {
        "source_hash": "3f7d38a5",
        "execution_start": 1743505432295,
        "execution_millis": 163,
        "execution_context_id": "298f0d3c-086d-414d-acea-34d98d3fbd8d",
        "cell_id": "e1e7c3e0a3ec4f8ebb79b335a1ca6cec",
        "deepnote_cell_type": "code"
      },
      "source": "sns.boxplot(data=df_encoded, x='Transaction_Amount')\n#Menggunakan library seaborn untuk visualisasi data dalam boxplot dengan parameter df_encoded yang mengandung kolom Transaction_Amount sebagai sumbu x dari boxplot\nplt.show()\n#Menampilkan grafik yang dibuat\n#Grafik yang tertampil menampilkan median, IQR dan outlier pada ujung kotak",
      "block_group": "dd73008b7c6d4bb78ab01f0dff2426ea",
      "execution_count": 16,
      "outputs": [
        {
          "data": {
            "text/plain": "<Figure size 640x480 with 1 Axes>",
            "image/png": "[encoded data removed]"
          },
          "metadata": {
            "image/png": {
              "width": 515,
              "height": 433
            }
          },
          "output_type": "display_data"
        }
      ],
      "outputs_reference": null,
      "content_dependencies": null
    },
    {
      "cell_type": "markdown",
      "metadata": {
        "formattedRanges": [],
        "cell_id": "52fb205e8907442aa99af4d519246dba",
        "deepnote_cell_type": "text-cell-p"
      },
      "source": "Outlier Detection using IQR",
      "block_group": "9005bde49b714374acf5b13dc2155c34"
    },
    {
      "cell_type": "code",
      "metadata": {
        "source_hash": "eb366206",
        "execution_start": 1743505432515,
        "execution_millis": 1,
        "execution_context_id": "298f0d3c-086d-414d-acea-34d98d3fbd8d",
        "cell_id": "6ba4aa2563c44dd98259673552055bdc",
        "deepnote_cell_type": "code"
      },
      "source": "Q1 = df_encoded['Transaction_Amount'].quantile(0.25)\n#Menghitung kuartil pertama (Q1) yang memisahkan 25% nilai terkecil dataset\nQ3 = df_encoded['Transaction_Amount'].quantile(0.75)\n#Menghitung kuartil tiga (Q3) yang memisahkan 75% nilai terkecil dataset\nIQR = Q3 - Q1\n#Menghitung interquartile range (IQR) atau rentang selisih Q1 dan Q3\n\nlower_bound = Q1 - 1.5 * IQR \n#Batas bawah deteksi outlier\nupper_bound = Q3 + 1.5 * IQR\n#Batas atas deteksi outlier\n\noutliers = df_encoded[(df_encoded['Transaction_Amount'] < lower_bound) | \n                     (df_encoded['Transaction_Amount'] > upper_bound)]['Transaction_Amount']\n#Mencari outlier dengan membuat subset data nilai traksaksi yang lebih kecil dari batas bawah dan lebih besar dari batas atas\n\n#Menampilkan hasil perhitungan deteksi outlier\nprint(\"Summary of Transaction Amount Outlier Detection:\")\nprint(f\"Q1: {Q1:.2f}\")\nprint(f\"Q3: {Q3:.2f}\")\nprint(f\"IQR: {IQR:.2f}\")\nprint(f\"Lower bound: {lower_bound:.2f}\")\nprint(f\"Upper bound: {upper_bound:.2f}\")\nprint(f\"\\nNumber of outliers detected: {len(outliers)}\")\nprint(f\"Percentage of outliers: {(len(outliers)/len(df_encoded['Transaction_Amount'])*100):.2f}%\")\n\n#Menampilkan contoh nilai outlier\nprint(\"\\nSample of outlier values:\")\nprint(outliers.head())",
      "block_group": "dc6603e92e0b4ce98931240a80f2021a",
      "execution_count": 17,
      "outputs": [
        {
          "name": "stdout",
          "text": "Summary of Transaction Amount Outlier Detection:\nQ1: 1267.43\nQ3: 3779.16\nIQR: 2511.73\nLower bound: -2500.16\nUpper bound: 7546.76\n\nNumber of outliers detected: 411\nPercentage of outliers: 1.06%\n\nSample of outlier values:\n166    49997.8\n245    49997.8\n298    49997.8\n317    49997.8\n421    49997.8\nName: Transaction_Amount, dtype: float64\n",
          "output_type": "stream"
        }
      ],
      "outputs_reference": null,
      "content_dependencies": null
    },
    {
      "cell_type": "markdown",
      "metadata": {
        "formattedRanges": [],
        "cell_id": "fc0ffbd79d5b4c4293f6062542c1e57d",
        "deepnote_cell_type": "text-cell-h3"
      },
      "source": "### 1.4.2 Imputation Outlier",
      "block_group": "64188b7aa54b44ac8e66b977de2821bc"
    },
    {
      "cell_type": "markdown",
      "metadata": {
        "formattedRanges": [],
        "cell_id": "405184a390fe4cffb0b0c8a559d2b460",
        "deepnote_cell_type": "text-cell-p"
      },
      "source": "replace the outlier values with median value ",
      "block_group": "4b843120bb734d03ab84afa6963d2212"
    },
    {
      "cell_type": "code",
      "metadata": {
        "source_hash": "9ed468fa",
        "execution_start": 1743505432585,
        "execution_millis": 1,
        "execution_context_id": "298f0d3c-086d-414d-acea-34d98d3fbd8d",
        "cell_id": "91359ea34b6a45eca6f70f7e7c70fb78",
        "deepnote_cell_type": "code"
      },
      "source": "df_median = df_encoded.copy()\n\ncolumn_data = df_median['Transaction_Amount']\n\nQ1 = np.percentile(column_data, 25)\nQ3 = np.percentile(column_data, 75)\nIQR = Q3 - Q1\n\nlower = Q1 - 1.5 * IQR\nupper = Q3 + 1.5 * IQR\n\noutliers = column_data[(column_data < lower) | (column_data > upper)]\n\nmedian = column_data.median()\n\ndf_median.loc[(df_median['Transaction_Amount'] < lower) | \n              (df_median['Transaction_Amount'] > upper), 'Transaction_Amount'] = median",
      "block_group": "d860fbe500864bae919eddf11b0bd8ba",
      "execution_count": 18,
      "outputs": [],
      "outputs_reference": null,
      "content_dependencies": null
    },
    {
      "cell_type": "markdown",
      "metadata": {
        "formattedRanges": [],
        "cell_id": "20b5e92fa2234929a55e1541688c5c5a",
        "deepnote_cell_type": "text-cell-p"
      },
      "source": "Visualization of Transaction_Amount Data Distribution After Imputation Outlier",
      "block_group": "d8eb4fadb6ea46168ba2cb7e6e49cb14"
    },
    {
      "cell_type": "code",
      "metadata": {
        "source_hash": "3c270714",
        "execution_start": 1743505432646,
        "execution_millis": 134,
        "execution_context_id": "298f0d3c-086d-414d-acea-34d98d3fbd8d",
        "cell_id": "0befb34bbcb145fd9993e8680ee34fac",
        "deepnote_cell_type": "code"
      },
      "source": "sns.boxplot(data=df_median, x='Transaction_Amount')\nplt.show()",
      "block_group": "9e28dd4058f74922afcad05405d85097",
      "execution_count": 19,
      "outputs": [
        {
          "data": {
            "text/plain": "<Figure size 640x480 with 1 Axes>",
            "image/png": "[encoded data removed]"
          },
          "metadata": {
            "image/png": {
              "width": 515,
              "height": 433
            }
          },
          "output_type": "display_data"
        }
      ],
      "outputs_reference": null,
      "content_dependencies": null
    },
    {
      "cell_type": "markdown",
      "metadata": {
        "formattedRanges": [],
        "cell_id": "6b58902c5f5549f68dfed02f96036da5",
        "deepnote_cell_type": "text-cell-h1"
      },
      "source": "# 2. Normalization Data Using MinMax Scaler",
      "block_group": "d1c80e24941343f282c839d75ee4f29a"
    },
    {
      "cell_type": "markdown",
      "metadata": {
        "formattedRanges": [],
        "cell_id": "cf510a32908e4aedb7841083d37c7307",
        "deepnote_cell_type": "text-cell-h3"
      },
      "source": "### 2.1 Initialization of features to be normalized",
      "block_group": "37b4298eaf414bb0b57638c63b4c1556"
    },
    {
      "cell_type": "code",
      "metadata": {
        "source_hash": "1414a456",
        "execution_start": 1743505583596,
        "execution_millis": 0,
        "execution_context_id": "298f0d3c-086d-414d-acea-34d98d3fbd8d",
        "cell_id": "b503527c571344aeb9a33bcd1dbd2447",
        "deepnote_cell_type": "code"
      },
      "source": "df_median.describe()\nnumeric_columns = ['Transaction_Amount', 'Account_Age']",
      "block_group": "93412c5e7e914e49a02e8a606c65ff6f",
      "execution_count": 31,
      "outputs": [],
      "outputs_reference": null,
      "content_dependencies": null
    },
    {
      "cell_type": "markdown",
      "metadata": {
        "formattedRanges": [],
        "cell_id": "b61e17820c394aba9d646cc878eadcf6",
        "deepnote_cell_type": "text-cell-p"
      },
      "source": "The  feature exhibits a wide range of values, with a minimum of 5.03 and a maximum of 49,997.8, indicating the need for normalization to ensure consistent scaling. Similarly, the significant difference between the minimum and maximum values of the  feature further emphasizes the importance of applying normalization methods to enhance the processing and analysis of the dataset.",
      "block_group": "d7ae95afdf874377965bd0b89f05fa0d"
    },
    {
      "cell_type": "markdown",
      "metadata": {
        "formattedRanges": [],
        "cell_id": "b4295a217f30412caf413efbac07b3f0",
        "deepnote_cell_type": "text-cell-h3"
      },
      "source": "### 2.2 Normalization",
      "block_group": "e0513a613d934474bb80950b102e9c32"
    },
    {
      "cell_type": "code",
      "metadata": {
        "source_hash": "430f1d9a",
        "execution_start": 1743505585020,
        "execution_millis": 24,
        "execution_context_id": "298f0d3c-086d-414d-acea-34d98d3fbd8d",
        "cell_id": "adc7a658b23543b58cd92a02119b14b5",
        "deepnote_cell_type": "code"
      },
      "source": "scaler = MinMaxScaler()\n\nx = scaler.fit_transform(df_median[numeric_columns])\ndf_standart = pd.DataFrame(x, columns=numeric_columns)  \ndf_standart.describe()",
      "block_group": "45764873ab2b46708ef8612d7c73a915",
      "execution_count": 33,
      "outputs": [
        {
          "output_type": "execute_result",
          "execution_count": 33,
          "data": {
            "application/vnd.deepnote.dataframe.v3+json": {
              "column_count": 2,
              "row_count": 8,
              "columns": [
                {
                  "name": "Transaction_Amount",
                  "dtype": "float64",
                  "stats": {
                    "unique_count": 8,
                    "nan_count": 0,
                    "min": "0.0",
                    "max": "38895.0",
                    "histogram": [
                      {
                        "bin_start": 0,
                        "bin_end": 3889.5,
                        "count": 7
                      },
                      {
                        "bin_start": 3889.5,
                        "bin_end": 7779,
                        "count": 0
                      },
                      {
                        "bin_start": 7779,
                        "bin_end": 11668.5,
                        "count": 0
                      },
                      {
                        "bin_start": 11668.5,
                        "bin_end": 15558,
                        "count": 0
                      },
                      {
                        "bin_start": 15558,
                        "bin_end": 19447.5,
                        "count": 0
                      },
                      {
                        "bin_start": 19447.5,
                        "bin_end": 23337,
                        "count": 0
                      },
                      {
                        "bin_start": 23337,
                        "bin_end": 27226.5,
                        "count": 0
                      },
                      {
                        "bin_start": 27226.5,
                        "bin_end": 31116,
                        "count": 0
                      },
                      {
                        "bin_start": 31116,
                        "bin_end": 35005.5,
                        "count": 0
                      },
                      {
                        "bin_start": 35005.5,
                        "bin_end": 38895,
                        "count": 1
                      }
                    ]
                  }
                },
                {
                  "name": "Account_Age",
                  "dtype": "float64",
                  "stats": {
                    "unique_count": 8,
                    "nan_count": 0,
                    "min": "0.0",
                    "max": "38895.0",
                    "histogram": [
                      {
                        "bin_start": 0,
                        "bin_end": 3889.5,
                        "count": 7
                      },
                      {
                        "bin_start": 3889.5,
                        "bin_end": 7779,
                        "count": 0
                      },
                      {
                        "bin_start": 7779,
                        "bin_end": 11668.5,
                        "count": 0
                      },
                      {
                        "bin_start": 11668.5,
                        "bin_end": 15558,
                        "count": 0
                      },
                      {
                        "bin_start": 15558,
                        "bin_end": 19447.5,
                        "count": 0
                      },
                      {
                        "bin_start": 19447.5,
                        "bin_end": 23337,
                        "count": 0
                      },
                      {
                        "bin_start": 23337,
                        "bin_end": 27226.5,
                        "count": 0
                      },
                      {
                        "bin_start": 27226.5,
                        "bin_end": 31116,
                        "count": 0
                      },
                      {
                        "bin_start": 31116,
                        "bin_end": 35005.5,
                        "count": 0
                      },
                      {
                        "bin_start": 35005.5,
                        "bin_end": 38895,
                        "count": 1
                      }
                    ]
                  }
                },
                {
                  "name": "_deepnote_index_column",
                  "dtype": "object"
                }
              ],
              "rows": [
                {
                  "Transaction_Amount": 38895,
                  "Account_Age": 38895,
                  "_deepnote_index_column": "count"
                },
                {
                  "Transaction_Amount": 0.4986696876044309,
                  "Account_Age": 0.49942674867799225,
                  "_deepnote_index_column": "mean"
                },
                {
                  "Transaction_Amount": 0.2861164929986712,
                  "Account_Age": 0.29092843366588306,
                  "_deepnote_index_column": "std"
                },
                {
                  "Transaction_Amount": 0,
                  "Account_Age": 0,
                  "_deepnote_index_column": "min"
                },
                {
                  "Transaction_Amount": 0.25274638370288804,
                  "Account_Age": 0.24576271186440676,
                  "_deepnote_index_column": "25%"
                },
                {
                  "Transaction_Amount": 0.5038210120626657,
                  "Account_Age": 0.5,
                  "_deepnote_index_column": "50%"
                },
                {
                  "Transaction_Amount": 0.7458921867961359,
                  "Account_Age": 0.7542372881355932,
                  "_deepnote_index_column": "75%"
                },
                {
                  "Transaction_Amount": 0.9999999999999999,
                  "Account_Age": 1,
                  "_deepnote_index_column": "max"
                }
              ],
              "type": "dataframe"
            },
            "text/plain": "       Transaction_Amount   Account_Age\ncount        38895.000000  38895.000000\nmean             0.498670      0.499427\nstd              0.286116      0.290928\nmin              0.000000      0.000000\n25%              0.252746      0.245763\n50%              0.503821      0.500000\n75%              0.745892      0.754237\nmax              1.000000      1.000000",
            "text/html": "<div>\n<style scoped>\n    .dataframe tbody tr th:only-of-type {\n        vertical-align: middle;\n    }\n\n    .dataframe tbody tr th {\n        vertical-align: top;\n    }\n\n    .dataframe thead th {\n        text-align: right;\n    }\n</style>\n<table border=\"1\" class=\"dataframe\">\n  <thead>\n    <tr style=\"text-align: right;\">\n      <th></th>\n      <th>Transaction_Amount</th>\n      <th>Account_Age</th>\n    </tr>\n  </thead>\n  <tbody>\n    <tr>\n      <th>count</th>\n      <td>38895.000000</td>\n      <td>38895.000000</td>\n    </tr>\n    <tr>\n      <th>mean</th>\n      <td>0.498670</td>\n      <td>0.499427</td>\n    </tr>\n    <tr>\n      <th>std</th>\n      <td>0.286116</td>\n      <td>0.290928</td>\n    </tr>\n    <tr>\n      <th>min</th>\n      <td>0.000000</td>\n      <td>0.000000</td>\n    </tr>\n    <tr>\n      <th>25%</th>\n      <td>0.252746</td>\n      <td>0.245763</td>\n    </tr>\n    <tr>\n      <th>50%</th>\n      <td>0.503821</td>\n      <td>0.500000</td>\n    </tr>\n    <tr>\n      <th>75%</th>\n      <td>0.745892</td>\n      <td>0.754237</td>\n    </tr>\n    <tr>\n      <th>max</th>\n      <td>1.000000</td>\n      <td>1.000000</td>\n    </tr>\n  </tbody>\n</table>\n</div>"
          },
          "metadata": {}
        }
      ],
      "outputs_reference": null,
      "content_dependencies": null
    },
    {
      "cell_type": "code",
      "metadata": {
        "source_hash": "6d3d0e38",
        "execution_start": 1743505593438,
        "execution_millis": 5,
        "execution_context_id": "298f0d3c-086d-414d-acea-34d98d3fbd8d",
        "cell_id": "233c957eb0de487f92d0ffdd2f4fb99e",
        "deepnote_cell_type": "code"
      },
      "source": "df_scaled = df_median.drop(numeric_columns, axis=1)\ndf_scaled = pd.concat([df_scaled.reset_index(drop=True), df_standart], axis=1)",
      "block_group": "a84890b1d7664d3a90d80bbb2ffdfcb8",
      "execution_count": 35,
      "outputs": [],
      "outputs_reference": null,
      "content_dependencies": null
    },
    {
      "cell_type": "code",
      "metadata": {
        "source_hash": "84687769",
        "execution_start": 1743505593497,
        "execution_millis": 23,
        "execution_context_id": "298f0d3c-086d-414d-acea-34d98d3fbd8d",
        "cell_id": "b35777cb559a4d5aa3f70e0bbe5bdaa3",
        "deepnote_cell_type": "code"
      },
      "source": "df_scaled",
      "block_group": "edace47c56af49dba6626ce502d4edbc",
      "execution_count": 36,
      "outputs": [
        {
          "output_type": "execute_result",
          "execution_count": 36,
          "data": {
            "application/vnd.deepnote.dataframe.v3+json": {
              "column_count": 20,
              "row_count": 38895,
              "columns": [
                {
                  "name": "Time_of_Transaction",
                  "dtype": "float64",
                  "stats": {
                    "unique_count": 24,
                    "nan_count": 0,
                    "min": "0.0",
                    "max": "23.0",
                    "histogram": [
                      {
                        "bin_start": 0,
                        "bin_end": 2.3,
                        "count": 4912
                      },
                      {
                        "bin_start": 2.3,
                        "bin_end": 4.6,
                        "count": 3272
                      },
                      {
                        "bin_start": 4.6,
                        "bin_end": 6.8999999999999995,
                        "count": 3249
                      },
                      {
                        "bin_start": 6.8999999999999995,
                        "bin_end": 9.2,
                        "count": 4805
                      },
                      {
                        "bin_start": 9.2,
                        "bin_end": 11.5,
                        "count": 3219
                      },
                      {
                        "bin_start": 11.5,
                        "bin_end": 13.799999999999999,
                        "count": 3282
                      },
                      {
                        "bin_start": 13.799999999999999,
                        "bin_end": 16.099999999999998,
                        "count": 4919
                      },
                      {
                        "bin_start": 16.099999999999998,
                        "bin_end": 18.4,
                        "count": 3335
                      },
                      {
                        "bin_start": 18.4,
                        "bin_end": 20.7,
                        "count": 3135
                      },
                      {
                        "bin_start": 20.7,
                        "bin_end": 23,
                        "count": 4767
                      }
                    ]
                  }
                },
                {
                  "name": "Location",
                  "dtype": "float64",
                  "stats": {
                    "unique_count": 8,
                    "nan_count": 0,
                    "min": "0.12335775806658954",
                    "max": "0.1272914256331148",
                    "histogram": [
                      {
                        "bin_start": 0.12335775806658954,
                        "bin_end": 0.12375112482324206,
                        "count": 9603
                      },
                      {
                        "bin_start": 0.12375112482324206,
                        "bin_end": 0.12414449157989459,
                        "count": 0
                      },
                      {
                        "bin_start": 0.12414449157989459,
                        "bin_end": 0.12453785833654711,
                        "count": 4843
                      },
                      {
                        "bin_start": 0.12453785833654711,
                        "bin_end": 0.12493122509319964,
                        "count": 4850
                      },
                      {
                        "bin_start": 0.12493122509319964,
                        "bin_end": 0.12532459184985217,
                        "count": 9733
                      },
                      {
                        "bin_start": 0.12532459184985217,
                        "bin_end": 0.1257179586065047,
                        "count": 0
                      },
                      {
                        "bin_start": 0.1257179586065047,
                        "bin_end": 0.12611132536315722,
                        "count": 0
                      },
                      {
                        "bin_start": 0.12611132536315722,
                        "bin_end": 0.12650469211980975,
                        "count": 4915
                      },
                      {
                        "bin_start": 0.12650469211980975,
                        "bin_end": 0.12689805887646227,
                        "count": 0
                      },
                      {
                        "bin_start": 0.12689805887646227,
                        "bin_end": 0.1272914256331148,
                        "count": 4951
                      }
                    ]
                  }
                },
                {
                  "name": "Previous_Fraudulent_Transactions",
                  "dtype": "int64"
                },
                {
                  "name": "Number_of_Transactions_Last_24H",
                  "dtype": "int64"
                },
                {
                  "name": "Transaction_Type_ATM Withdrawal",
                  "dtype": "int64"
                },
                {
                  "name": "Transaction_Type_Bank Transfer",
                  "dtype": "int64"
                },
                {
                  "name": "Transaction_Type_Bill Payment",
                  "dtype": "int64"
                },
                {
                  "name": "Transaction_Type_Online Purchase",
                  "dtype": "int64"
                },
                {
                  "name": "Transaction_Type_POS Payment",
                  "dtype": "int64"
                },
                {
                  "name": "Device_Used_Desktop",
                  "dtype": "int64"
                },
                {
                  "name": "Device_Used_Mobile",
                  "dtype": "int64"
                },
                {
                  "name": "Device_Used_Tablet",
                  "dtype": "int64"
                },
                {
                  "name": "Device_Used_Unknown Device",
                  "dtype": "int64"
                },
                {
                  "name": "Payment_Method_Credit Card",
                  "dtype": "int64"
                },
                {
                  "name": "Payment_Method_Debit Card",
                  "dtype": "int64"
                },
                {
                  "name": "Payment_Method_Invalid Method",
                  "dtype": "int64"
                },
                {
                  "name": "Payment_Method_Net Banking",
                  "dtype": "int64"
                },
                {
                  "name": "Payment_Method_UPI",
                  "dtype": "int64"
                },
                {
                  "name": "Transaction_Amount",
                  "dtype": "float64"
                },
                {
                  "name": "Account_Age",
                  "dtype": "float64"
                },
                {
                  "name": "_deepnote_index_column",
                  "dtype": "int64"
                }
              ],
              "rows": [
                {
                  "Time_of_Transaction": 16,
                  "Location": 0.12451471911556755,
                  "Previous_Fraudulent_Transactions": 0,
                  "Number_of_Transactions_Last_24H": 13,
                  "Transaction_Type_ATM Withdrawal": 1,
                  "Transaction_Type_Bank Transfer": 0,
                  "Transaction_Type_Bill Payment": 0,
                  "Transaction_Type_Online Purchase": 0,
                  "Transaction_Type_POS Payment": 0,
                  "Device_Used_Desktop": 0,
                  "Device_Used_Mobile": 0,
                  "Device_Used_Tablet": 1,
                  "Device_Used_Unknown Device": 0,
                  "Payment_Method_Credit Card": 0,
                  "Payment_Method_Debit Card": 1,
                  "Payment_Method_Invalid Method": 0,
                  "Payment_Method_Net Banking": 0,
                  "Payment_Method_UPI": 0,
                  "Transaction_Amount": 0.2578167075429201,
                  "Account_Age": 1,
                  "_deepnote_index_column": 0
                },
                {
                  "Time_of_Transaction": 13,
                  "Location": 0.12520889574495436,
                  "Previous_Fraudulent_Transactions": 4,
                  "Number_of_Transactions_Last_24H": 3,
                  "Transaction_Type_ATM Withdrawal": 1,
                  "Transaction_Type_Bank Transfer": 0,
                  "Transaction_Type_Bill Payment": 0,
                  "Transaction_Type_Online Purchase": 0,
                  "Transaction_Type_POS Payment": 0,
                  "Device_Used_Desktop": 0,
                  "Device_Used_Mobile": 1,
                  "Device_Used_Tablet": 0,
                  "Device_Used_Unknown Device": 0,
                  "Payment_Method_Credit Card": 1,
                  "Payment_Method_Debit Card": 0,
                  "Payment_Method_Invalid Method": 0,
                  "Payment_Method_Net Banking": 0,
                  "Payment_Method_UPI": 0,
                  "Transaction_Amount": 0.3102357475349116,
                  "Account_Age": 0.6610169491525424,
                  "_deepnote_index_column": 1
                },
                {
                  "Time_of_Transaction": 15,
                  "Location": 0.12469469083429746,
                  "Previous_Fraudulent_Transactions": 4,
                  "Number_of_Transactions_Last_24H": 4,
                  "Transaction_Type_ATM Withdrawal": 0,
                  "Transaction_Type_Bank Transfer": 0,
                  "Transaction_Type_Bill Payment": 1,
                  "Transaction_Type_Online Purchase": 0,
                  "Transaction_Type_POS Payment": 0,
                  "Device_Used_Desktop": 1,
                  "Device_Used_Mobile": 0,
                  "Device_Used_Tablet": 0,
                  "Device_Used_Unknown Device": 0,
                  "Payment_Method_Credit Card": 0,
                  "Payment_Method_Debit Card": 0,
                  "Payment_Method_Invalid Method": 0,
                  "Payment_Method_Net Banking": 0,
                  "Payment_Method_UPI": 1,
                  "Transaction_Amount": 0.019033985684969217,
                  "Account_Age": 0.016949152542372885,
                  "_deepnote_index_column": 2
                },
                {
                  "Time_of_Transaction": 19,
                  "Location": 0.12451471911556755,
                  "Previous_Fraudulent_Transactions": 2,
                  "Number_of_Transactions_Last_24H": 7,
                  "Transaction_Type_ATM Withdrawal": 0,
                  "Transaction_Type_Bank Transfer": 0,
                  "Transaction_Type_Bill Payment": 0,
                  "Transaction_Type_Online Purchase": 0,
                  "Transaction_Type_POS Payment": 1,
                  "Device_Used_Desktop": 0,
                  "Device_Used_Mobile": 1,
                  "Device_Used_Tablet": 0,
                  "Device_Used_Unknown Device": 0,
                  "Payment_Method_Credit Card": 1,
                  "Payment_Method_Debit Card": 0,
                  "Payment_Method_Invalid Method": 0,
                  "Payment_Method_Net Banking": 0,
                  "Payment_Method_UPI": 0,
                  "Transaction_Amount": 0.29740627659041996,
                  "Account_Age": 0.4745762711864407,
                  "_deepnote_index_column": 3
                },
                {
                  "Time_of_Transaction": 15,
                  "Location": 0.1272914256331148,
                  "Previous_Fraudulent_Transactions": 3,
                  "Number_of_Transactions_Last_24H": 14,
                  "Transaction_Type_ATM Withdrawal": 1,
                  "Transaction_Type_Bank Transfer": 0,
                  "Transaction_Type_Bill Payment": 0,
                  "Transaction_Type_Online Purchase": 0,
                  "Transaction_Type_POS Payment": 0,
                  "Device_Used_Desktop": 1,
                  "Device_Used_Mobile": 0,
                  "Device_Used_Tablet": 0,
                  "Device_Used_Unknown Device": 0,
                  "Payment_Method_Credit Card": 1,
                  "Payment_Method_Debit Card": 0,
                  "Payment_Method_Invalid Method": 0,
                  "Payment_Method_Net Banking": 0,
                  "Payment_Method_UPI": 0,
                  "Transaction_Amount": 0.473899594574303,
                  "Account_Age": 0.8050847457627119,
                  "_deepnote_index_column": 4
                },
                {
                  "Time_of_Transaction": 2,
                  "Location": 0.1272914256331148,
                  "Previous_Fraudulent_Transactions": 3,
                  "Number_of_Transactions_Last_24H": 9,
                  "Transaction_Type_ATM Withdrawal": 0,
                  "Transaction_Type_Bank Transfer": 0,
                  "Transaction_Type_Bill Payment": 1,
                  "Transaction_Type_Online Purchase": 0,
                  "Transaction_Type_POS Payment": 0,
                  "Device_Used_Desktop": 0,
                  "Device_Used_Mobile": 0,
                  "Device_Used_Tablet": 1,
                  "Device_Used_Unknown Device": 0,
                  "Payment_Method_Credit Card": 0,
                  "Payment_Method_Debit Card": 0,
                  "Payment_Method_Invalid Method": 0,
                  "Payment_Method_Net Banking": 0,
                  "Payment_Method_UPI": 1,
                  "Transaction_Amount": 0.1080694729465939,
                  "Account_Age": 0.04237288135593221,
                  "_deepnote_index_column": 5
                },
                {
                  "Time_of_Transaction": 13,
                  "Location": 0.1272914256331148,
                  "Previous_Fraudulent_Transactions": 2,
                  "Number_of_Transactions_Last_24H": 10,
                  "Transaction_Type_ATM Withdrawal": 1,
                  "Transaction_Type_Bank Transfer": 0,
                  "Transaction_Type_Bill Payment": 0,
                  "Transaction_Type_Online Purchase": 0,
                  "Transaction_Type_POS Payment": 0,
                  "Device_Used_Desktop": 0,
                  "Device_Used_Mobile": 0,
                  "Device_Used_Tablet": 1,
                  "Device_Used_Unknown Device": 0,
                  "Payment_Method_Credit Card": 0,
                  "Payment_Method_Debit Card": 1,
                  "Payment_Method_Invalid Method": 0,
                  "Payment_Method_Net Banking": 0,
                  "Payment_Method_UPI": 0,
                  "Transaction_Amount": 0.12627659041994094,
                  "Account_Age": 0.10169491525423728,
                  "_deepnote_index_column": 6
                },
                {
                  "Time_of_Transaction": 3,
                  "Location": 0.12469469083429746,
                  "Previous_Fraudulent_Transactions": 4,
                  "Number_of_Transactions_Last_24H": 3,
                  "Transaction_Type_ATM Withdrawal": 0,
                  "Transaction_Type_Bank Transfer": 0,
                  "Transaction_Type_Bill Payment": 1,
                  "Transaction_Type_Online Purchase": 0,
                  "Transaction_Type_POS Payment": 0,
                  "Device_Used_Desktop": 0,
                  "Device_Used_Mobile": 1,
                  "Device_Used_Tablet": 0,
                  "Device_Used_Unknown Device": 0,
                  "Payment_Method_Credit Card": 0,
                  "Payment_Method_Debit Card": 0,
                  "Payment_Method_Invalid Method": 0,
                  "Payment_Method_Net Banking": 1,
                  "Payment_Method_UPI": 0,
                  "Transaction_Amount": 0.7309955453225887,
                  "Account_Age": 0.5508474576271186,
                  "_deepnote_index_column": 7
                },
                {
                  "Time_of_Transaction": 20,
                  "Location": 0.12451471911556755,
                  "Previous_Fraudulent_Transactions": 2,
                  "Number_of_Transactions_Last_24H": 1,
                  "Transaction_Type_ATM Withdrawal": 0,
                  "Transaction_Type_Bank Transfer": 0,
                  "Transaction_Type_Bill Payment": 1,
                  "Transaction_Type_Online Purchase": 0,
                  "Transaction_Type_POS Payment": 0,
                  "Device_Used_Desktop": 0,
                  "Device_Used_Mobile": 1,
                  "Device_Used_Tablet": 0,
                  "Device_Used_Unknown Device": 0,
                  "Payment_Method_Credit Card": 1,
                  "Payment_Method_Debit Card": 0,
                  "Payment_Method_Invalid Method": 0,
                  "Payment_Method_Net Banking": 0,
                  "Payment_Method_UPI": 0,
                  "Transaction_Amount": 0.5463356524350568,
                  "Account_Age": 0.5677966101694916,
                  "_deepnote_index_column": 8
                },
                {
                  "Time_of_Transaction": 0,
                  "Location": 0.1272914256331148,
                  "Previous_Fraudulent_Transactions": 1,
                  "Number_of_Transactions_Last_24H": 7,
                  "Transaction_Type_ATM Withdrawal": 0,
                  "Transaction_Type_Bank Transfer": 1,
                  "Transaction_Type_Bill Payment": 0,
                  "Transaction_Type_Online Purchase": 0,
                  "Transaction_Type_POS Payment": 0,
                  "Device_Used_Desktop": 0,
                  "Device_Used_Mobile": 1,
                  "Device_Used_Tablet": 0,
                  "Device_Used_Unknown Device": 0,
                  "Payment_Method_Credit Card": 0,
                  "Payment_Method_Debit Card": 0,
                  "Payment_Method_Invalid Method": 0,
                  "Payment_Method_Net Banking": 1,
                  "Payment_Method_UPI": 0,
                  "Transaction_Amount": 0.47476650483007155,
                  "Account_Age": 0.20338983050847456,
                  "_deepnote_index_column": 9
                }
              ],
              "type": "dataframe"
            },
            "text/plain": "       Time_of_Transaction  Location  Previous_Fraudulent_Transactions  \\\n0                     16.0  0.124515                                 0   \n1                     13.0  0.125209                                 4   \n2                     15.0  0.124695                                 4   \n3                     19.0  0.124515                                 2   \n4                     15.0  0.127291                                 3   \n...                    ...       ...                               ...   \n38890                 14.0  0.123358                                 0   \n38891                 10.0  0.123358                                 1   \n38892                 14.0  0.124695                                 4   \n38893                 18.0  0.124515                                 3   \n38894                  3.0  0.125029                                 0   \n\n       Number_of_Transactions_Last_24H  Transaction_Type_ATM Withdrawal  \\\n0                                   13                                1   \n1                                    3                                1   \n2                                    4                                0   \n3                                    7                                0   \n4                                   14                                1   \n...                                ...                              ...   \n38890                                3                                0   \n38891                                4                                0   \n38892                               12                                0   \n38893                                5                                0   \n38894                               10                                0   \n\n       Transaction_Type_Bank Transfer  Transaction_Type_Bill Payment  \\\n0                                   0                              0   \n1                                   0                              0   \n2                                   0                              1   \n3                                   0                              0   \n4                                   0                              0   \n...                               ...                            ...   \n38890                               0                              1   \n38891                               0                              0   \n38892                               1                              0   \n38893                               0                              0   \n38894                               0                              0   \n\n       Transaction_Type_Online Purchase  Transaction_Type_POS Payment  \\\n0                                     0                             0   \n1                                     0                             0   \n2                                     0                             0   \n3                                     0                             1   \n4                                     0                             0   \n...                                 ...                           ...   \n38890                                 0                             0   \n38891                                 0                             1   \n38892                                 0                             0   \n38893                                 0                             1   \n38894                                 0                             1   \n\n       Device_Used_Desktop  Device_Used_Mobile  Device_Used_Tablet  \\\n0                        0                   0                   1   \n1                        0                   1                   0   \n2                        1                   0                   0   \n3                        0                   1                   0   \n4                        1                   0                   0   \n...                    ...                 ...                 ...   \n38890                    1                   0                   0   \n38891                    1                   0                   0   \n38892                    0                   0                   0   \n38893                    0                   1                   0   \n38894                    0                   0                   1   \n\n       Device_Used_Unknown Device  Payment_Method_Credit Card  \\\n0                               0                           0   \n1                               0                           1   \n2                               0                           0   \n3                               0                           1   \n4                               0                           1   \n...                           ...                         ...   \n38890                           0                           1   \n38891                           0                           0   \n38892                           1                           0   \n38893                           0                           1   \n38894                           0                           0   \n\n       Payment_Method_Debit Card  Payment_Method_Invalid Method  \\\n0                              1                              0   \n1                              0                              0   \n2                              0                              0   \n3                              0                              0   \n4                              0                              0   \n...                          ...                            ...   \n38890                          0                              0   \n38891                          0                              0   \n38892                          1                              0   \n38893                          0                              0   \n38894                          0                              1   \n\n       Payment_Method_Net Banking  Payment_Method_UPI  Transaction_Amount  \\\n0                               0                   0            0.257817   \n1                               0                   0            0.310236   \n2                               0                   1            0.019034   \n3                               0                   0            0.297406   \n4                               0                   0            0.473900   \n...                           ...                 ...                 ...   \n38890                           0                   0            0.213827   \n38891                           1                   0            0.364675   \n38892                           0                   0            0.108013   \n38893                           0                   0            0.440342   \n38894                           0                   0            0.162108   \n\n       Account_Age  \n0         1.000000  \n1         0.661017  \n2         0.016949  \n3         0.474576  \n4         0.805085  \n...            ...  \n38890     0.788136  \n38891     0.762712  \n38892     0.491525  \n38893     0.610169  \n38894     0.415254  \n\n[38895 rows x 20 columns]",
            "text/html": "<div>\n<style scoped>\n    .dataframe tbody tr th:only-of-type {\n        vertical-align: middle;\n    }\n\n    .dataframe tbody tr th {\n        vertical-align: top;\n    }\n\n    .dataframe thead th {\n        text-align: right;\n    }\n</style>\n<table border=\"1\" class=\"dataframe\">\n  <thead>\n    <tr style=\"text-align: right;\">\n      <th></th>\n      <th>Time_of_Transaction</th>\n      <th>Location</th>\n      <th>Previous_Fraudulent_Transactions</th>\n      <th>Number_of_Transactions_Last_24H</th>\n      <th>Transaction_Type_ATM Withdrawal</th>\n      <th>Transaction_Type_Bank Transfer</th>\n      <th>Transaction_Type_Bill Payment</th>\n      <th>Transaction_Type_Online Purchase</th>\n      <th>Transaction_Type_POS Payment</th>\n      <th>Device_Used_Desktop</th>\n      <th>Device_Used_Mobile</th>\n      <th>Device_Used_Tablet</th>\n      <th>Device_Used_Unknown Device</th>\n      <th>Payment_Method_Credit Card</th>\n      <th>Payment_Method_Debit Card</th>\n      <th>Payment_Method_Invalid Method</th>\n      <th>Payment_Method_Net Banking</th>\n      <th>Payment_Method_UPI</th>\n      <th>Transaction_Amount</th>\n      <th>Account_Age</th>\n    </tr>\n  </thead>\n  <tbody>\n    <tr>\n      <th>0</th>\n      <td>16.0</td>\n      <td>0.124515</td>\n      <td>0</td>\n      <td>13</td>\n      <td>1</td>\n      <td>0</td>\n      <td>0</td>\n      <td>0</td>\n      <td>0</td>\n      <td>0</td>\n      <td>0</td>\n      <td>1</td>\n      <td>0</td>\n      <td>0</td>\n      <td>1</td>\n      <td>0</td>\n      <td>0</td>\n      <td>0</td>\n      <td>0.257817</td>\n      <td>1.000000</td>\n    </tr>\n    <tr>\n      <th>1</th>\n      <td>13.0</td>\n      <td>0.125209</td>\n      <td>4</td>\n      <td>3</td>\n      <td>1</td>\n      <td>0</td>\n      <td>0</td>\n      <td>0</td>\n      <td>0</td>\n      <td>0</td>\n      <td>1</td>\n      <td>0</td>\n      <td>0</td>\n      <td>1</td>\n      <td>0</td>\n      <td>0</td>\n      <td>0</td>\n      <td>0</td>\n      <td>0.310236</td>\n      <td>0.661017</td>\n    </tr>\n    <tr>\n      <th>2</th>\n      <td>15.0</td>\n      <td>0.124695</td>\n      <td>4</td>\n      <td>4</td>\n      <td>0</td>\n      <td>0</td>\n      <td>1</td>\n      <td>0</td>\n      <td>0</td>\n      <td>1</td>\n      <td>0</td>\n      <td>0</td>\n      <td>0</td>\n      <td>0</td>\n      <td>0</td>\n      <td>0</td>\n      <td>0</td>\n      <td>1</td>\n      <td>0.019034</td>\n      <td>0.016949</td>\n    </tr>\n    <tr>\n      <th>3</th>\n      <td>19.0</td>\n      <td>0.124515</td>\n      <td>2</td>\n      <td>7</td>\n      <td>0</td>\n      <td>0</td>\n      <td>0</td>\n      <td>0</td>\n      <td>1</td>\n      <td>0</td>\n      <td>1</td>\n      <td>0</td>\n      <td>0</td>\n      <td>1</td>\n      <td>0</td>\n      <td>0</td>\n      <td>0</td>\n      <td>0</td>\n      <td>0.297406</td>\n      <td>0.474576</td>\n    </tr>\n    <tr>\n      <th>4</th>\n      <td>15.0</td>\n      <td>0.127291</td>\n      <td>3</td>\n      <td>14</td>\n      <td>1</td>\n      <td>0</td>\n      <td>0</td>\n      <td>0</td>\n      <td>0</td>\n      <td>1</td>\n      <td>0</td>\n      <td>0</td>\n      <td>0</td>\n      <td>1</td>\n      <td>0</td>\n      <td>0</td>\n      <td>0</td>\n      <td>0</td>\n      <td>0.473900</td>\n      <td>0.805085</td>\n    </tr>\n    <tr>\n      <th>...</th>\n      <td>...</td>\n      <td>...</td>\n      <td>...</td>\n      <td>...</td>\n      <td>...</td>\n      <td>...</td>\n      <td>...</td>\n      <td>...</td>\n      <td>...</td>\n      <td>...</td>\n      <td>...</td>\n      <td>...</td>\n      <td>...</td>\n      <td>...</td>\n      <td>...</td>\n      <td>...</td>\n      <td>...</td>\n      <td>...</td>\n      <td>...</td>\n      <td>...</td>\n    </tr>\n    <tr>\n      <th>38890</th>\n      <td>14.0</td>\n      <td>0.123358</td>\n      <td>0</td>\n      <td>3</td>\n      <td>0</td>\n      <td>0</td>\n      <td>1</td>\n      <td>0</td>\n      <td>0</td>\n      <td>1</td>\n      <td>0</td>\n      <td>0</td>\n      <td>0</td>\n      <td>1</td>\n      <td>0</td>\n      <td>0</td>\n      <td>0</td>\n      <td>0</td>\n      <td>0.213827</td>\n      <td>0.788136</td>\n    </tr>\n    <tr>\n      <th>38891</th>\n      <td>10.0</td>\n      <td>0.123358</td>\n      <td>1</td>\n      <td>4</td>\n      <td>0</td>\n      <td>0</td>\n      <td>0</td>\n      <td>0</td>\n      <td>1</td>\n      <td>1</td>\n      <td>0</td>\n      <td>0</td>\n      <td>0</td>\n      <td>0</td>\n      <td>0</td>\n      <td>0</td>\n      <td>1</td>\n      <td>0</td>\n      <td>0.364675</td>\n      <td>0.762712</td>\n    </tr>\n    <tr>\n      <th>38892</th>\n      <td>14.0</td>\n      <td>0.124695</td>\n      <td>4</td>\n      <td>12</td>\n      <td>0</td>\n      <td>1</td>\n      <td>0</td>\n      <td>0</td>\n      <td>0</td>\n      <td>0</td>\n      <td>0</td>\n      <td>0</td>\n      <td>1</td>\n      <td>0</td>\n      <td>1</td>\n      <td>0</td>\n      <td>0</td>\n      <td>0</td>\n      <td>0.108013</td>\n      <td>0.491525</td>\n    </tr>\n    <tr>\n      <th>38893</th>\n      <td>18.0</td>\n      <td>0.124515</td>\n      <td>3</td>\n      <td>5</td>\n      <td>0</td>\n      <td>0</td>\n      <td>0</td>\n      <td>0</td>\n      <td>1</td>\n      <td>0</td>\n      <td>1</td>\n      <td>0</td>\n      <td>0</td>\n      <td>1</td>\n      <td>0</td>\n      <td>0</td>\n      <td>0</td>\n      <td>0</td>\n      <td>0.440342</td>\n      <td>0.610169</td>\n    </tr>\n    <tr>\n      <th>38894</th>\n      <td>3.0</td>\n      <td>0.125029</td>\n      <td>0</td>\n      <td>10</td>\n      <td>0</td>\n      <td>0</td>\n      <td>0</td>\n      <td>0</td>\n      <td>1</td>\n      <td>0</td>\n      <td>0</td>\n      <td>1</td>\n      <td>0</td>\n      <td>0</td>\n      <td>0</td>\n      <td>1</td>\n      <td>0</td>\n      <td>0</td>\n      <td>0.162108</td>\n      <td>0.415254</td>\n    </tr>\n  </tbody>\n</table>\n<p>38895 rows × 20 columns</p>\n</div>"
          },
          "metadata": {}
        }
      ],
      "outputs_reference": null,
      "content_dependencies": null
    },
    {
      "cell_type": "markdown",
      "metadata": {
        "formattedRanges": [],
        "cell_id": "e3959c0edd844a898dd2bb67b5dc2b35",
        "deepnote_cell_type": "text-cell-h1"
      },
      "source": "# 3. Dimension Reduction Using PCA (Principle Component Analysis)",
      "block_group": "ed19a1f1a84f46b288d47de95f3f24cb"
    },
    {
      "cell_type": "code",
      "metadata": {
        "source_hash": "adbb5b2a",
        "execution_start": 1743505764036,
        "execution_millis": 243,
        "deepnote_table_state": {
          "sortBy": [],
          "filters": [],
          "pageSize": 10,
          "pageIndex": 1,
          "columnOrder": [
            "PC1",
            "PC2"
          ],
          "hiddenColumnIds": [],
          "columnDisplayNames": [],
          "conditionalFilters": [],
          "cellFormattingRules": [],
          "wrappedTextColumnIds": []
        },
        "execution_context_id": "298f0d3c-086d-414d-acea-34d98d3fbd8d",
        "deepnote_table_loading": false,
        "cell_id": "4bc91bb8c4cf4e2d803bec350f96b55c",
        "deepnote_cell_type": "code"
      },
      "source": "pca = PCA(n_components=2) #memilih 2 komponen untuk memudahkan visualisasi data secara 2D\npca.fit(df_scaled)\ndf_pca = pca.transform(df_scaled)\ndf_pca = pd.DataFrame(df_pca, columns=['PC1', 'PC2'])\ndf_pca",
      "block_group": "a632e56f8bc447a797b7cc7b057c8c8d",
      "execution_count": 50,
      "outputs": [
        {
          "output_type": "execute_result",
          "execution_count": 62,
          "data": {
            "application/vnd.deepnote.dataframe.v3+json": {
              "column_count": 3,
              "row_count": 38895,
              "columns": [
                {
                  "name": "PC1",
                  "dtype": "float64",
                  "stats": {
                    "unique_count": 38895,
                    "nan_count": 0,
                    "min": "-11.518450099351972",
                    "max": "11.59819613057642",
                    "histogram": [
                      {
                        "bin_start": -11.518450099351972,
                        "bin_end": -9.206785476359133,
                        "count": 4912
                      },
                      {
                        "bin_start": -9.206785476359133,
                        "bin_end": -6.8951208533662935,
                        "count": 3272
                      },
                      {
                        "bin_start": -6.8951208533662935,
                        "bin_end": -4.5834562303734545,
                        "count": 3249
                      },
                      {
                        "bin_start": -4.5834562303734545,
                        "bin_end": -2.2717916073806155,
                        "count": 4805
                      },
                      {
                        "bin_start": -2.2717916073806155,
                        "bin_end": 0.03987301561222445,
                        "count": 3219
                      },
                      {
                        "bin_start": 0.03987301561222445,
                        "bin_end": 2.3515376386050626,
                        "count": 3282
                      },
                      {
                        "bin_start": 2.3515376386050626,
                        "bin_end": 4.663202261597901,
                        "count": 4919
                      },
                      {
                        "bin_start": 4.663202261597901,
                        "bin_end": 6.974866884590741,
                        "count": 3335
                      },
                      {
                        "bin_start": 6.974866884590741,
                        "bin_end": 9.28653150758358,
                        "count": 3135
                      },
                      {
                        "bin_start": 9.28653150758358,
                        "bin_end": 11.59819613057642,
                        "count": 4767
                      }
                    ]
                  }
                },
                {
                  "name": "PC2",
                  "dtype": "float64",
                  "stats": {
                    "unique_count": 38895,
                    "nan_count": 0,
                    "min": "-6.599602679516181",
                    "max": "6.6087387593627005",
                    "histogram": [
                      {
                        "bin_start": -6.599602679516181,
                        "bin_end": -5.278768535628293,
                        "count": 5470
                      },
                      {
                        "bin_start": -5.278768535628293,
                        "bin_end": -3.9579343917404044,
                        "count": 2791
                      },
                      {
                        "bin_start": -3.9579343917404044,
                        "bin_end": -2.637100247852516,
                        "count": 2772
                      },
                      {
                        "bin_start": -2.637100247852516,
                        "bin_end": -1.3162661039646277,
                        "count": 5622
                      },
                      {
                        "bin_start": -1.3162661039646277,
                        "bin_end": 0.004568039923260159,
                        "count": 2856
                      },
                      {
                        "bin_start": 0.004568039923260159,
                        "bin_end": 1.325402183811149,
                        "count": 2864
                      },
                      {
                        "bin_start": 1.325402183811149,
                        "bin_end": 2.6462363276990377,
                        "count": 5438
                      },
                      {
                        "bin_start": 2.6462363276990377,
                        "bin_end": 3.9670704715869256,
                        "count": 2808
                      },
                      {
                        "bin_start": 3.9670704715869256,
                        "bin_end": 5.2879046154748135,
                        "count": 2748
                      },
                      {
                        "bin_start": 5.2879046154748135,
                        "bin_end": 6.6087387593627005,
                        "count": 5526
                      }
                    ]
                  }
                },
                {
                  "name": "cluster",
                  "dtype": "int32"
                },
                {
                  "name": "_deepnote_index_column",
                  "dtype": "int64"
                }
              ],
              "rows": [
                {
                  "PC1": -11.40205671703779,
                  "PC2": -6.59575489513787,
                  "cluster": 1,
                  "_deepnote_index_column": 10
                },
                {
                  "PC1": 0.5699335598518833,
                  "PC2": -3.4905352757266384,
                  "cluster": 0,
                  "_deepnote_index_column": 11
                },
                {
                  "PC1": 1.5344351314480174,
                  "PC2": 0.5163703149186951,
                  "cluster": 0,
                  "_deepnote_index_column": 12
                },
                {
                  "PC1": 9.48156532664189,
                  "PC2": 6.58821932124643,
                  "cluster": 0,
                  "_deepnote_index_column": 13
                },
                {
                  "PC1": 2.5000104626517765,
                  "PC2": 4.525904188309646,
                  "cluster": 0,
                  "_deepnote_index_column": 14
                },
                {
                  "PC1": -9.499365782743089,
                  "PC2": 4.419807688108804,
                  "cluster": 1,
                  "_deepnote_index_column": 15
                },
                {
                  "PC1": -8.473278946624893,
                  "PC2": 1.429706616242152,
                  "cluster": 1,
                  "_deepnote_index_column": 16
                },
                {
                  "PC1": 2.5185514152050765,
                  "PC2": 2.5255724289541392,
                  "cluster": 0,
                  "_deepnote_index_column": 17
                },
                {
                  "PC1": 9.525751359789185,
                  "PC2": 1.5880028184861201,
                  "cluster": 0,
                  "_deepnote_index_column": 18
                },
                {
                  "PC1": 1.516962027640281,
                  "PC2": 2.519727092721911,
                  "cluster": 0,
                  "_deepnote_index_column": 19
                }
              ],
              "type": "dataframe"
            },
            "text/plain": "            PC1       PC2  cluster\n0      4.490615  5.545538        0\n1      1.579688 -4.481442        0\n2      3.570800 -3.465698        0\n3      7.544468 -0.428823        0\n4      3.481957  6.536607        0\n...         ...       ...      ...\n38890  2.579369 -4.470795        0\n38891 -1.429044 -3.508660        1\n38892  2.499227  4.524805        0\n38893  6.562111 -2.438096        0\n38894 -8.481907  2.429490        1\n\n[38895 rows x 3 columns]",
            "text/html": "<div>\n<style scoped>\n    .dataframe tbody tr th:only-of-type {\n        vertical-align: middle;\n    }\n\n    .dataframe tbody tr th {\n        vertical-align: top;\n    }\n\n    .dataframe thead th {\n        text-align: right;\n    }\n</style>\n<table border=\"1\" class=\"dataframe\">\n  <thead>\n    <tr style=\"text-align: right;\">\n      <th></th>\n      <th>PC1</th>\n      <th>PC2</th>\n      <th>cluster</th>\n    </tr>\n  </thead>\n  <tbody>\n    <tr>\n      <th>0</th>\n      <td>4.490615</td>\n      <td>5.545538</td>\n      <td>0</td>\n    </tr>\n    <tr>\n      <th>1</th>\n      <td>1.579688</td>\n      <td>-4.481442</td>\n      <td>0</td>\n    </tr>\n    <tr>\n      <th>2</th>\n      <td>3.570800</td>\n      <td>-3.465698</td>\n      <td>0</td>\n    </tr>\n    <tr>\n      <th>3</th>\n      <td>7.544468</td>\n      <td>-0.428823</td>\n      <td>0</td>\n    </tr>\n    <tr>\n      <th>4</th>\n      <td>3.481957</td>\n      <td>6.536607</td>\n      <td>0</td>\n    </tr>\n    <tr>\n      <th>...</th>\n      <td>...</td>\n      <td>...</td>\n      <td>...</td>\n    </tr>\n    <tr>\n      <th>38890</th>\n      <td>2.579369</td>\n      <td>-4.470795</td>\n      <td>0</td>\n    </tr>\n    <tr>\n      <th>38891</th>\n      <td>-1.429044</td>\n      <td>-3.508660</td>\n      <td>1</td>\n    </tr>\n    <tr>\n      <th>38892</th>\n      <td>2.499227</td>\n      <td>4.524805</td>\n      <td>0</td>\n    </tr>\n    <tr>\n      <th>38893</th>\n      <td>6.562111</td>\n      <td>-2.438096</td>\n      <td>0</td>\n    </tr>\n    <tr>\n      <th>38894</th>\n      <td>-8.481907</td>\n      <td>2.429490</td>\n      <td>1</td>\n    </tr>\n  </tbody>\n</table>\n<p>38895 rows × 3 columns</p>\n</div>"
          },
          "metadata": {}
        }
      ],
      "outputs_reference": null,
      "content_dependencies": null
    },
    {
      "cell_type": "markdown",
      "metadata": {
        "formattedRanges": [],
        "cell_id": "2b3c740ca06c47df9aeaab2ec6514e75",
        "deepnote_cell_type": "text-cell-h1"
      },
      "source": "# 4. Clustering Using K-Means",
      "block_group": "f67f4e5616bf4214b15ec06220a5b29a"
    },
    {
      "cell_type": "code",
      "metadata": {
        "source_hash": "47cf3ad6",
        "execution_start": 1743506246204,
        "execution_millis": 2556,
        "execution_context_id": "298f0d3c-086d-414d-acea-34d98d3fbd8d",
        "cell_id": "bfa7ed03c16347f1a19484d79c69853d",
        "deepnote_cell_type": "code"
      },
      "source": "kmean = KMeans(n_clusters=2) #memilih 2 cluster karena ingin menentukan 2 kelas yaitu fraud dan non-fraud\nkmean.fit(df_pca)\nkmean.labels_\n\ndf_pca['cluster'] = kmean.labels_\n\nsns.scatterplot(data=df_pca, x=\"PC1\", y=\"PC2\", hue=\"cluster\")\nplt.show()",
      "block_group": "8ada068caa4246bba08333eba798f6eb",
      "execution_count": 60,
      "outputs": [
        {
          "data": {
            "text/plain": "<Figure size 640x480 with 1 Axes>",
            "image/png": "[encoded data removed]"
          },
          "metadata": {
            "image/png": {
              "width": 565,
              "height": 432
            }
          },
          "output_type": "display_data"
        }
      ],
      "outputs_reference": null,
      "content_dependencies": null
    },
    {
      "cell_type": "markdown",
      "source": "<a style='text-decoration:none;line-height:16px;display:flex;color:#5B5B62;padding:10px;justify-content:end;' href='https://deepnote.com?utm_source=created-in-deepnote-cell&projectId=063e6764-8135-4301-bc56-3ccb8f64d810' target=\"_blank\">\n<img alt='Created in deepnote.com' style='display:inline;max-height:16px;margin:0px;margin-right:7.5px;' src='data:image/svg+xml;base64,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' > </img>\nCreated in <span style='font-weight:600;margin-left:4px;'>Deepnote</span></a>",
      "metadata": {
        "created_in_deepnote_cell": true,
        "deepnote_cell_type": "markdown"
      }
    }
  ],
  "nbformat": 4,
  "nbformat_minor": 0,
  "metadata": {
    "deepnote_persisted_session": {
      "createdAt": "2025-04-01T11:36:18.304Z"
    },
    "deepnote_notebook_id": "020c976df1b3448cb1143e92c8d5656e"
  }
}